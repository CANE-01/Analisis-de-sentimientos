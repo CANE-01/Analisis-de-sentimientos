{
 "cells": [
  {
   "cell_type": "markdown",
   "id": "65bd757f-a0d4-473b-ba60-0d017f0144c3",
   "metadata": {},
   "source": [
    "# Prueba 1: Análisis de Sentimientos de Twitter\n",
    "\n",
    "● Para realizar esta prueba debes haber estudiado previamente todo el material\n",
    "disponibilizado correspondiente al módulo.\n",
    "● Una vez terminada la prueba, comprime la carpeta que contiene el desarrollo de los\n",
    "requerimientos solicitados y sube el .zip en el LMS.\n",
    "● Puntaje total: 10 puntos.\n",
    "● Desarrollo prueba:\n",
    "○ La prueba se debe desarrollar de manera Individual.\n",
    "○ Para la realización de la prueba necesitarás apoyarte del archivo Apoyo\n",
    "Prueba1.zip.\n",
    "\n",
    "Contexto\n",
    "\n",
    "A continuación se presenta un problema clásico en el análisis de texto: Extraer la polaridad\n",
    "de sentimiento asociado a un texto.\n",
    "Para esto, utilizaremos una base de datos provenientes de CrowdFlower que se entrega\n",
    "como archivo adjunto para esta prueba bajo el nombre de training_tweets.csv .\n",
    "Para descargar los datos puede ejecutar el siguiente código:"
   ]
  },
  {
   "cell_type": "markdown",
   "id": "92056311-23dc-46df-814f-3d9501f01b34",
   "metadata": {},
   "source": [
    "`wget`\n",
    "`https://www.crowdflower.com/wp-content/uploads/2016/07/text_emotion.csv`\n"
   ]
  },
  {
   "cell_type": "markdown",
   "id": "4ef119f6-015e-45b8-971f-5c6847174e32",
   "metadata": {},
   "source": [
    "El objetivo general de esta prueba es alcanzar el mejor desempeño posible para clasificar si\n",
    "un tweet tiene una polaridad positiva o negativa en cuanto al sentimiento que expresa.\n",
    "Para medir el desempeño, se evaluará con un conjunto de datos del cuál no tendrán acceso.\n",
    "De esta manera evitaremos que los modelos aprendan información sobre el conjunto de\n",
    "validación."
   ]
  },
  {
   "cell_type": "markdown",
   "id": "25293370-02ae-45a3-b7a1-2ad282e25b45",
   "metadata": {},
   "source": [
    "# Objetivos\n",
    "\n",
    "Para alcanzar el objetivo general, su trabajo se puede desagregar en los siguientes puntos:\n",
    "\n",
    "* 1. Generar un análisis exploratorio sobre los datos contenidos en el DataFrame,\n",
    "considerando palabras más comunes y distribución de las clases en el vector\n",
    "objetivo.\n",
    "\n",
    "* 2. Preprocesamiento de Texto:\n",
    "● Para trabajar adecuadamente con texto, debemos preprocesar y posteriormente\n",
    "representar cada oración como un conjunto de características.\n",
    "● Para preprocesar los tweets, debemos transformarlos a lower case. Un problema\n",
    "recurrente en el análisis de texto es la alta ocurrencia de palabras comunes. Se\n",
    "recomienda eliminarlas mediante la declaración de stopwords. Para generar la\n",
    "exclusión de stopwords, podemos utilizar la librería nltk (Natural Language ToolKit)\n",
    "y descargar los stopwords con la siguiente instrucción."
   ]
  },
  {
   "cell_type": "markdown",
   "id": "64714f0c-cb3d-4cfc-9fa7-7c3d72012e52",
   "metadata": {},
   "source": [
    "`import nltk`\n",
    "`nltk.download( 'stopwords' )`"
   ]
  },
  {
   "cell_type": "markdown",
   "id": "51d6331d-0614-4e97-b095-53678e83ce97",
   "metadata": {},
   "source": [
    "* ● Puede refinar los atributos a capturar mediante el proceso de lemantización (la\n",
    "reducción de variadas palabras con un tronco léxico común; ejemplo: Organización,\n",
    "Organiza, y Organizado presentan organi_ como tronco léxico en común) o\n",
    "Stemming (la reducción de una palabra a una expresión generalizable). Cabe\n",
    "destacar que ésta última carece de análisis morfológico del lenguaje.\n",
    "* ● Posterior a la refinación y preprocesamiento de las palabras, podemos representar\n",
    "cada oración en una matriz (o corpus) que permitirá reflejar la cantidad de\n",
    "ocurrencias de Wi palabra en un registro. Para ello, pueden hacer uso de las librerías\n",
    "de preprocesamiento sklearn.feature_extraction.text.CountVectorizer o\n",
    "sklearn.feature_extraction.text.TfidfVectorizer . De esta manera,\n",
    "tendremos un conjunto de características es mediante la frecuencia de ocurrencia de\n",
    "una palabra o término en el texto."
   ]
  },
  {
   "cell_type": "markdown",
   "id": "7fbc31a7-4030-4ba7-a16c-8d4e067a29dc",
   "metadata": {},
   "source": [
    "* 3. Preparación del vector objetivo y las matrices de entrenamiento y validación:\n",
    "    ● Nos interesa trabajar con dos tipos de emociones: positivas o negativas. Para ello\n",
    "    deberá generar la recodificación de cada una de las clases en una de las dos\n",
    "    emociones:"
   ]
  },
  {
   "cell_type": "markdown",
   "id": "8a06b135-02e9-457b-9d14-f3ca6eabf75a",
   "metadata": {},
   "source": [
    "|Original | Recodificación|\n",
    "|---|---|\n",
    "|'worry' | Negativa|\n",
    "|'happiness' | Positiva|\n",
    "|'sadness' | Negativa|\n",
    "|'love' | Positiva|\n",
    "|'surprise' | Positiva|\n",
    "|'fun' | Positiva |\n",
    "|'relief' | Positiva|\n",
    "|'hate' | Negativa|\n",
    "|'empty' | Negativa|\n",
    "|'enthusiasm' | Positiva|\n",
    "|'boredom' | Negativa|\n",
    "|'anger' | Negativa|"
   ]
  },
  {
   "cell_type": "markdown",
   "id": "1f076947-d0cc-4ea8-869b-64eab981d8e2",
   "metadata": {},
   "source": [
    "* Si el tweet está asignado como neutral, clasifíquelo aleatoriamente entre positivo o negativo."
   ]
  },
  {
   "cell_type": "markdown",
   "id": "990e3f97-6a8b-4f53-9450-0bf05874e914",
   "metadata": {},
   "source": [
    "* 4. Entrenamiento de modelos:\n",
    "    ○ En base a los modelos vistos en clase, implemente por lo menos 5. Para cada\n",
    "    uno de ellos justifique la elección de hiper parámetros. Si implementa\n",
    "    búsqueda de grilla para cada uno de ellos, defina el rango de valores a tomar\n",
    "    en cada hiper parámetro.\n",
    "    ○ Reporte el desempeño de cada modelo en las muestras de entrenamiento y\n",
    "    validación. Comente sobre la capacidad de generalización de cada uno de\n",
    "    ellos haciendo uso de los conceptos vistos en el curso."
   ]
  },
  {
   "cell_type": "markdown",
   "id": "a7e752e6-0a28-4cf6-9164-4e63f2c101e8",
   "metadata": {},
   "source": [
    "* 5. Seleccione los 2 mejores modelos, serialicelos y envíalos a evaluación. Recuerde que\n",
    "    el modelo serializado debe ser posterior al fit , para poder ejecutar predict en los\n",
    "    nuevos datos. "
   ]
  },
  {
   "cell_type": "markdown",
   "id": "4ee7efb9-b389-48ba-91d2-580a8772de77",
   "metadata": {},
   "source": [
    "# Evaluación\n",
    "\n",
    "La siguiente rúbrica detalla los elementos que se evaluarán en el entregable final (Hito 3) de\n",
    "la prueba, es decir, una vez que su trabajo esté completo:\n",
    "* ● Notebook (9 Puntos) : El notebook debe ser un reporte con la estrategia analítica, explicando los siguientes puntos:\n",
    "* ○ La definición de los requerimientos, la definición del vector objetivo, la definición de las métricas a utilizar. (1 Puntos)\n",
    "* ○ Un análisis exploratorio (univariado y gráfico). Como mínimo, debe analizar el comportamiento del vector objetivo antes del preprocesamiento y posterior al procesamiento. (3 Puntos)\n",
    "* ○ La estrategia de preprocesamiento/feature engineering. (3 Puntos)\n",
    "* ○ La elección de los algoritmos a implementar, así como sus hiper parámetros.\n",
    "* Un reporte sobre qué modelos se seleccionarán. (2 Puntos)\n",
    "* ● Modelos serializados (1 Puntos) :\n",
    "* ○ Los modelos deben estar serializados con la siguiente nomenclatura: nombre_grupo-modelo -1 y nombre_grupo-modelo -2 .\n",
    "* La evaluación de los modelos serializados se realizará en función al desempeño predictivo del modelo en un conjunto de datos externos. La primera instancia es evaluar los dos modelos enviados a competencia por el grupo, preservando el mejor modelo para la competencia con los otros grupos. El segundo paso es rankear según el desempeño entre grupos. El alumno debe obtener un mínimo de 7 puntos para aprobar."
   ]
  },
  {
   "cell_type": "code",
   "execution_count": 1,
   "id": "cefc687c-1542-40cb-bcc4-4a49e4030ec0",
   "metadata": {},
   "outputs": [],
   "source": [
    "# Importacion de librerías\n",
    "import numpy as np\n",
    "import pandas as pd\n",
    "import scipy.stats as stats\n",
    "import matplotlib.pyplot as plt\n",
    "import statsmodels.api as sm\n",
    "import statsmodels.formula.api as smf\n",
    "import seaborn as sns\n",
    "import warnings\n",
    "warnings.filterwarnings(\"ignore\", category=DeprecationWarning)\n",
    "import missingno as msno\n",
    "import random\n",
    "\n",
    "from nltk.stem.wordnet import WordNetLemmatizer\n",
    "\n",
    "import re\n",
    "from sklearn.feature_extraction.text import CountVectorizer\n",
    "from sklearn.model_selection import train_test_split\n",
    "from sklearn.naive_bayes import MultinomialNB\n",
    "from sklearn.metrics import classification_report\n",
    "from sklearn.metrics import confusion_matrix\n",
    "from xgboost import XGBClassifier\n",
    "from sklearn.ensemble import RandomForestClassifier\n",
    "from sklearn.linear_model import LogisticRegression\n",
    "from sklearn.metrics import roc_curve\n",
    "from sklearn.metrics import roc_auc_score\n",
    "from nltk.corpus import stopwords\n",
    "from sklearn.ensemble import AdaBoostClassifier\n",
    "from sklearn.ensemble import GradientBoostingClassifier\n",
    "from sklearn.model_selection import GridSearchCV\n",
    "from sklearn.decomposition import LatentDirichletAllocation\n",
    "from sklearn.metrics import roc_curve\n",
    "from sklearn.metrics import roc_auc_score"
   ]
  },
  {
   "cell_type": "code",
   "execution_count": 2,
   "id": "fe3d3da6-cc3f-45c2-830e-d0a29b2934cc",
   "metadata": {},
   "outputs": [
    {
     "name": "stderr",
     "output_type": "stream",
     "text": [
      "[nltk_data] Downloading package stopwords to /home/cris/nltk_data...\n",
      "[nltk_data]   Package stopwords is already up-to-date!\n",
      "[nltk_data] Downloading package wordnet to /home/cris/nltk_data...\n",
      "[nltk_data]   Package wordnet is already up-to-date!\n"
     ]
    }
   ],
   "source": [
    "import nltk\n",
    "nltk.download('stopwords')\n",
    "nltk.download('wordnet')\n",
    "lmtzr = WordNetLemmatizer()"
   ]
  },
  {
   "cell_type": "code",
   "execution_count": 3,
   "id": "87d64b72-33da-4d30-b6f6-60461ea5dc94",
   "metadata": {},
   "outputs": [],
   "source": [
    "# Carga csv\n",
    "df = pd.read_csv('training_tweets.csv').drop(columns=['Unnamed: 0'], axis = 1)"
   ]
  },
  {
   "cell_type": "code",
   "execution_count": 4,
   "id": "ddbd6aec-0700-4c09-a650-6c533225a993",
   "metadata": {},
   "outputs": [
    {
     "data": {
      "text/html": [
       "<div>\n",
       "<style scoped>\n",
       "    .dataframe tbody tr th:only-of-type {\n",
       "        vertical-align: middle;\n",
       "    }\n",
       "\n",
       "    .dataframe tbody tr th {\n",
       "        vertical-align: top;\n",
       "    }\n",
       "\n",
       "    .dataframe thead th {\n",
       "        text-align: right;\n",
       "    }\n",
       "</style>\n",
       "<table border=\"1\" class=\"dataframe\">\n",
       "  <thead>\n",
       "    <tr style=\"text-align: right;\">\n",
       "      <th></th>\n",
       "      <th>content</th>\n",
       "      <th>sentiment</th>\n",
       "    </tr>\n",
       "  </thead>\n",
       "  <tbody>\n",
       "    <tr>\n",
       "      <th>0</th>\n",
       "      <td>Happy Mama's day to all mothers</td>\n",
       "      <td>love</td>\n",
       "    </tr>\n",
       "    <tr>\n",
       "      <th>1</th>\n",
       "      <td>@LysdelTellez I am lost. Please help me find a...</td>\n",
       "      <td>worry</td>\n",
       "    </tr>\n",
       "    <tr>\n",
       "      <th>2</th>\n",
       "      <td>@BoomKatt yes yes I AM, networking whore to th...</td>\n",
       "      <td>happiness</td>\n",
       "    </tr>\n",
       "    <tr>\n",
       "      <th>3</th>\n",
       "      <td>you@snapplynn Wish that would have been your t...</td>\n",
       "      <td>neutral</td>\n",
       "    </tr>\n",
       "    <tr>\n",
       "      <th>4</th>\n",
       "      <td>now i am doing the MicroEconomics project  iha...</td>\n",
       "      <td>worry</td>\n",
       "    </tr>\n",
       "  </tbody>\n",
       "</table>\n",
       "</div>"
      ],
      "text/plain": [
       "                                             content  sentiment\n",
       "0                    Happy Mama's day to all mothers       love\n",
       "1  @LysdelTellez I am lost. Please help me find a...      worry\n",
       "2  @BoomKatt yes yes I AM, networking whore to th...  happiness\n",
       "3  you@snapplynn Wish that would have been your t...    neutral\n",
       "4  now i am doing the MicroEconomics project  iha...      worry"
      ]
     },
     "execution_count": 4,
     "metadata": {},
     "output_type": "execute_result"
    }
   ],
   "source": [
    "df.head()"
   ]
  },
  {
   "cell_type": "code",
   "execution_count": 5,
   "id": "dcbe3ac6-13ee-48a3-b9da-10e7252a9975",
   "metadata": {},
   "outputs": [
    {
     "data": {
      "text/plain": [
       "(30000, 2)"
      ]
     },
     "execution_count": 5,
     "metadata": {},
     "output_type": "execute_result"
    }
   ],
   "source": [
    "# Cantidad de datos\n",
    "df.shape"
   ]
  },
  {
   "cell_type": "code",
   "execution_count": 6,
   "id": "71ed5912-5291-48c4-a02f-e46de7cd420a",
   "metadata": {},
   "outputs": [
    {
     "data": {
      "text/plain": [
       "content      object\n",
       "sentiment    object\n",
       "dtype: object"
      ]
     },
     "execution_count": 6,
     "metadata": {},
     "output_type": "execute_result"
    }
   ],
   "source": [
    "# Tipo de datos\n",
    "df.dtypes"
   ]
  },
  {
   "cell_type": "code",
   "execution_count": 7,
   "id": "920fedbe-b50c-4850-9c57-ce274b76e0b3",
   "metadata": {},
   "outputs": [
    {
     "data": {
      "text/plain": [
       "<AxesSubplot:>"
      ]
     },
     "execution_count": 7,
     "metadata": {},
     "output_type": "execute_result"
    },
    {
     "data": {
      "image/png": "[encoded data removed]",
      "text/plain": [
       "<Figure size 1800x720 with 3 Axes>"
      ]
     },
     "metadata": {
      "needs_background": "light"
     },
     "output_type": "display_data"
    }
   ],
   "source": [
    "# Valores nulos\n",
    "msno.bar(df)"
   ]
  },
  {
   "cell_type": "markdown",
   "id": "4ef6375f-00e4-4f70-a74d-20d765430308",
   "metadata": {},
   "source": [
    "No hay valores nulos en el csv"
   ]
  },
  {
   "cell_type": "code",
   "execution_count": 8,
   "id": "d4a709ef-4aaf-4131-9ad3-fa267639577f",
   "metadata": {},
   "outputs": [
    {
     "data": {
      "image/png": "[encoded data removed]",
      "text/plain": [
       "<Figure size 432x288 with 1 Axes>"
      ]
     },
     "metadata": {
      "needs_background": "light"
     },
     "output_type": "display_data"
    }
   ],
   "source": [
    "# Grafica de frecuencias por sentimientos\n",
    "df['sentiment'].value_counts().plot.barh()\n",
    "plt.title('Frecuencia de sentimientos')\n",
    "plt.show()"
   ]
  },
  {
   "cell_type": "markdown",
   "id": "07e54c62-b503-46f8-a56b-c1a0fa3be0e6",
   "metadata": {},
   "source": [
    "La categoría neutral es la más frecuente, seguida por preocupacion(worry) y happiness(felicidad). De acuerdo a lo indicado en la recodificacion la data se encuentra balanceada entre sentimientos positivos y negativos."
   ]
  },
  {
   "cell_type": "code",
   "execution_count": 9,
   "id": "83ba9b74-3efc-4b8f-8731-1ded42fcd85e",
   "metadata": {},
   "outputs": [],
   "source": [
    "# Reemplazo categorias(Positiva, Negativa, NaN)\n",
    "df['sentiment']=df['sentiment'].replace(['happiness', 'love', 'surprise', 'fun', 'relief', 'enthusiasm'], 'Positiva')\n",
    "df['sentiment']=df['sentiment'].replace(['worry', 'sadness', 'hate', 'empty', 'boredom', 'anger'], 'Negativa')\n",
    "df['sentiment']=df['sentiment'].replace(['neutral'], np.nan)"
   ]
  },
  {
   "cell_type": "code",
   "execution_count": 10,
   "id": "a36cd563-0921-4473-9efb-e009d86d96b6",
   "metadata": {},
   "outputs": [],
   "source": [
    "# Reemplazo aleatorio NaN en Positiva y Negativa\n",
    "mylist = [\"Positiva\", \"Negativa\"]\n",
    "np.random.seed(4982)\n",
    "df['sentiment'] = df['sentiment'].fillna(pd.Series(np.random.choice(mylist, size = len(df.index))))"
   ]
  },
  {
   "cell_type": "code",
   "execution_count": 11,
   "id": "ee9af522-1f68-4b62-854f-2fde49d80f32",
   "metadata": {},
   "outputs": [
    {
     "data": {
      "image/png": "[encoded data removed]",
      "text/plain": [
       "<Figure size 432x288 with 1 Axes>"
      ]
     },
     "metadata": {
      "needs_background": "light"
     },
     "output_type": "display_data"
    }
   ],
   "source": [
    "# Distribucion de datos \n",
    "df['sentiment'].value_counts().plot.barh()\n",
    "plt.title('Conteo de tweets negativos y positivos')\n",
    "plt.show()"
   ]
  },
  {
   "cell_type": "code",
   "execution_count": 12,
   "id": "13fdf9db-6dc0-4519-a3d6-d28c38a9d8db",
   "metadata": {},
   "outputs": [],
   "source": [
    "# Se genera objeto con stopwords\n",
    "stop = stopwords.words('english')"
   ]
  },
  {
   "cell_type": "code",
   "execution_count": 13,
   "id": "a64a2859-bcd5-45ff-94c9-3238f4ed7c51",
   "metadata": {},
   "outputs": [],
   "source": [
    "def clean_text(df, text_field):\n",
    "    \n",
    "    #se convierte el texto a minusculas\n",
    "    df[text_field] = df[text_field].str.lower()\n",
    "    \n",
    "    #expansion de expresiones cortas del ingles \n",
    "    df[text_field] = df[text_field].apply(lambda x: re.sub(r\"can't\", \"can not\", x))  \n",
    "    df[text_field] = df[text_field].apply(lambda x: re.sub(r\"n\\'t\", \" not\", x))\n",
    "    df[text_field] = df[text_field].apply(lambda x: re.sub(r\"\\'re\", \" are\", x))\n",
    "    df[text_field] = df[text_field].apply(lambda x: re.sub(r\"\\'m\",\" am\", x))\n",
    "    df[text_field] = df[text_field].apply(lambda x: re.sub(r\"\\'s\",\" is\", x))\n",
    "    df[text_field] = df[text_field].apply(lambda x: re.sub(r\"\\'ll\",\" will\", x))\n",
    "    df[text_field] = df[text_field].apply(lambda x: re.sub(r\"\\'ve\",\" have\", x))\n",
    "    df[text_field] = df[text_field].apply(lambda x: re.sub(r\"\\'t\", \" not\", x))\n",
    "    \n",
    "    #se remueven @user, numeros, emoticones, urls, puntuaciones\n",
    "    df[text_field] = df[text_field].apply(lambda x: re.sub(r\"(@[A-Za-z0-9]+)|([^0-9A-Za-z \\t])|(\\w+:\\/\\/\\S+)|^rt|http.+?\", \"\", x))\n",
    "    \n",
    "    #se remueves stopwords y se acortan los espacios \n",
    "    df[text_field] = df[text_field].apply(lambda x: ' '.join([word for word in x.split() if word not in (stop)]))\n",
    "    \n",
    "    #Lematizacion de palabras\n",
    "    df[text_field] = df[text_field].apply(lambda x: \" \".join([lmtzr.lemmatize(word) for word in x.split()]))\n"
   ]
  },
  {
   "cell_type": "code",
   "execution_count": 14,
   "id": "22a076bf-3e17-4003-9147-5499204b0370",
   "metadata": {},
   "outputs": [],
   "source": [
    "clean_text(df, 'content')"
   ]
  },
  {
   "cell_type": "code",
   "execution_count": 15,
   "id": "852b8afc-3276-4369-8d9c-72ffa4a6b9e7",
   "metadata": {},
   "outputs": [],
   "source": [
    "# Se genera matriz y contador\n",
    "count_vectorizer=CountVectorizer()\n",
    "count_vectorizer_fit = count_vectorizer.fit_transform(df['content'])\n",
    "words = count_vectorizer.get_feature_names()\n",
    "words_freq = count_vectorizer_fit.toarray().sum(axis=0)"
   ]
  },
  {
   "cell_type": "code",
   "execution_count": 16,
   "id": "bae6e9a7-c9b9-4e02-b068-7897b74e9a4b",
   "metadata": {},
   "outputs": [],
   "source": [
    "#Se genera dataframe para para mostrar las 100 palabras mas repetidas en la base de datos\n",
    "df_top_words = pd.DataFrame(data= {'freq': words_freq}, index = words)\n",
    "by_freq = df_top_words.sort_values('freq',ascending = False)"
   ]
  },
  {
   "cell_type": "code",
   "execution_count": 17,
   "id": "0643612c-5ff9-428d-b240-926542e1143d",
   "metadata": {},
   "outputs": [
    {
     "data": {
      "image/png": "[encoded data removed]",
      "text/plain": [
       "<Figure size 432x288 with 1 Axes>"
      ]
     },
     "metadata": {
      "needs_background": "light"
     },
     "output_type": "display_data"
    }
   ],
   "source": [
    "# Grafica 20 palabras mas usadas en Twitter\n",
    "by_freq.head(10).plot.barh()\n",
    "plt.title('Frecuencia de palabras más usadas en twitter')\n",
    "plt.show()"
   ]
  },
  {
   "cell_type": "code",
   "execution_count": 18,
   "id": "a093074d-d0bf-430e-8f22-09b5aad67b0e",
   "metadata": {},
   "outputs": [],
   "source": [
    "#Binarizacion de income\n",
    "df['sentiment'] = np.where(df['sentiment'] == 'Positiva',1,0)"
   ]
  },
  {
   "cell_type": "code",
   "execution_count": 19,
   "id": "9e19cc2d-9ca2-4ded-9885-829abb2801ee",
   "metadata": {},
   "outputs": [],
   "source": [
    "X_features = count_vectorizer_fit\n",
    "y_label = df['sentiment']"
   ]
  },
  {
   "cell_type": "code",
   "execution_count": 20,
   "id": "a02b1043-bbdc-40fb-b0ef-487cf0d1f7e8",
   "metadata": {},
   "outputs": [],
   "source": [
    "X_train, X_test_val, y_train, y_test_val = train_test_split(X_features, y_label, test_size = 0.4)"
   ]
  },
  {
   "cell_type": "code",
   "execution_count": 21,
   "id": "7e69a249-c4ad-456c-ba46-ee3832b4db0c",
   "metadata": {},
   "outputs": [],
   "source": [
    "X_test, X_val, y_test, y_val = train_test_split(X_test_val, y_test_val, test_size = 0.5)"
   ]
  },
  {
   "cell_type": "code",
   "execution_count": 23,
   "id": "9211440e-1a6c-46cc-b88b-14adee750502",
   "metadata": {},
   "outputs": [],
   "source": [
    "X_train = X_train.toarray()\n",
    "X_test = X_test.toarray()\n",
    "X_val = X_val.toarray()"
   ]
  },
  {
   "cell_type": "code",
   "execution_count": 24,
   "id": "e4b4c4c3-2edb-4901-aff4-a6b2561242fe",
   "metadata": {},
   "outputs": [],
   "source": [
    "from tensorflow.keras import models\n",
    "from tensorflow.keras import layers\n",
    "\n",
    "model = models.Sequential()\n",
    "model.add(layers.Dense(16, activation='relu', input_shape=(X_train.shape[1],)))\n",
    "model.add(layers.Dense(16, activation='relu'))\n",
    "model.add(layers.Dense(1, activation='sigmoid'))"
   ]
  },
  {
   "cell_type": "code",
   "execution_count": 25,
   "id": "eb7e11c7-2779-49a3-a717-e534890d064c",
   "metadata": {},
   "outputs": [],
   "source": [
    "from tensorflow.keras import optimizers\n",
    "\n",
    "model.compile(\n",
    "    optimizer=optimizers.SGD(learning_rate=0.005), \n",
    "    loss='binary_crossentropy',\n",
    "    metrics=['accuracy', 'Precision']\n",
    ")"
   ]
  },
  {
   "cell_type": "code",
   "execution_count": 26,
   "id": "71a8b175-cad3-43b9-87f8-f1b26664f921",
   "metadata": {},
   "outputs": [
    {
     "name": "stdout",
     "output_type": "stream",
     "text": [
      "Epoch 1/50\n",
      "563/563 [==============================] - 5s 9ms/step - loss: 0.6931 - accuracy: 0.5041 - precision: 0.4059 - val_loss: 0.6927 - val_accuracy: 0.5013 - val_precision: 1.0000\n",
      "Epoch 2/50\n",
      "563/563 [==============================] - 4s 7ms/step - loss: 0.6921 - accuracy: 0.5099 - precision: 0.5714 - val_loss: 0.6916 - val_accuracy: 0.5058 - val_precision: 0.8182\n",
      "Epoch 3/50\n",
      "563/563 [==============================] - 4s 7ms/step - loss: 0.6903 - accuracy: 0.5274 - precision: 0.7898 - val_loss: 0.6896 - val_accuracy: 0.5313 - val_precision: 0.8664\n",
      "Epoch 4/50\n",
      "563/563 [==============================] - 4s 7ms/step - loss: 0.6875 - accuracy: 0.5640 - precision: 0.8096 - val_loss: 0.6870 - val_accuracy: 0.5413 - val_precision: 0.8576\n",
      "Epoch 5/50\n",
      "563/563 [==============================] - 4s 7ms/step - loss: 0.6842 - accuracy: 0.5782 - precision: 0.8076 - val_loss: 0.6837 - val_accuracy: 0.5693 - val_precision: 0.7985\n",
      "Epoch 6/50\n",
      "563/563 [==============================] - 4s 7ms/step - loss: 0.6804 - accuracy: 0.6024 - precision: 0.7790 - val_loss: 0.6801 - val_accuracy: 0.5920 - val_precision: 0.7717\n",
      "Epoch 7/50\n",
      "563/563 [==============================] - 4s 7ms/step - loss: 0.6762 - accuracy: 0.6167 - precision: 0.7630 - val_loss: 0.6760 - val_accuracy: 0.6083 - val_precision: 0.7582\n",
      "Epoch 8/50\n",
      "563/563 [==============================] - 4s 7ms/step - loss: 0.6713 - accuracy: 0.6314 - precision: 0.7662 - val_loss: 0.6713 - val_accuracy: 0.6248 - val_precision: 0.7372\n",
      "Epoch 9/50\n",
      "563/563 [==============================] - 4s 7ms/step - loss: 0.6657 - accuracy: 0.6385 - precision: 0.7582 - val_loss: 0.6661 - val_accuracy: 0.6395 - val_precision: 0.7126\n",
      "Epoch 10/50\n",
      "563/563 [==============================] - 4s 8ms/step - loss: 0.6595 - accuracy: 0.6476 - precision: 0.7467 - val_loss: 0.6604 - val_accuracy: 0.6402 - val_precision: 0.7136\n",
      "Epoch 11/50\n",
      "563/563 [==============================] - 5s 9ms/step - loss: 0.6524 - accuracy: 0.6563 - precision: 0.7398 - val_loss: 0.6547 - val_accuracy: 0.6322 - val_precision: 0.7359\n",
      "Epoch 12/50\n",
      "563/563 [==============================] - 4s 7ms/step - loss: 0.6447 - accuracy: 0.6579 - precision: 0.7456 - val_loss: 0.6476 - val_accuracy: 0.6522 - val_precision: 0.7078\n",
      "Epoch 13/50\n",
      "563/563 [==============================] - 5s 9ms/step - loss: 0.6365 - accuracy: 0.6667 - precision: 0.7337 - val_loss: 0.6411 - val_accuracy: 0.6463 - val_precision: 0.7201\n",
      "Epoch 14/50\n",
      "563/563 [==============================] - 5s 10ms/step - loss: 0.6279 - accuracy: 0.6722 - precision: 0.7368 - val_loss: 0.6343 - val_accuracy: 0.6555 - val_precision: 0.7120\n",
      "Epoch 15/50\n",
      "563/563 [==============================] - 5s 9ms/step - loss: 0.6192 - accuracy: 0.6778 - precision: 0.7345 - val_loss: 0.6279 - val_accuracy: 0.6553 - val_precision: 0.6988\n",
      "Epoch 16/50\n",
      "563/563 [==============================] - 4s 7ms/step - loss: 0.6108 - accuracy: 0.6847 - precision: 0.7335 - val_loss: 0.6223 - val_accuracy: 0.6565 - val_precision: 0.7019\n",
      "Epoch 17/50\n",
      "563/563 [==============================] - 5s 9ms/step - loss: 0.6025 - accuracy: 0.6892 - precision: 0.7297 - val_loss: 0.6180 - val_accuracy: 0.6590 - val_precision: 0.7187\n",
      "Epoch 18/50\n",
      "563/563 [==============================] - 4s 8ms/step - loss: 0.5949 - accuracy: 0.6923 - precision: 0.7319 - val_loss: 0.6131 - val_accuracy: 0.6613 - val_precision: 0.6920\n",
      "Epoch 19/50\n",
      "563/563 [==============================] - 4s 7ms/step - loss: 0.5879 - accuracy: 0.7004 - precision: 0.7341 - val_loss: 0.6106 - val_accuracy: 0.6623 - val_precision: 0.7105\n",
      "Epoch 20/50\n",
      "563/563 [==============================] - 4s 7ms/step - loss: 0.5814 - accuracy: 0.7048 - precision: 0.7380 - val_loss: 0.6074 - val_accuracy: 0.6633 - val_precision: 0.6839\n",
      "Epoch 21/50\n",
      "563/563 [==============================] - 4s 7ms/step - loss: 0.5755 - accuracy: 0.7102 - precision: 0.7395 - val_loss: 0.6060 - val_accuracy: 0.6647 - val_precision: 0.7001\n",
      "Epoch 22/50\n",
      "563/563 [==============================] - 4s 7ms/step - loss: 0.5699 - accuracy: 0.7121 - precision: 0.7383 - val_loss: 0.6053 - val_accuracy: 0.6660 - val_precision: 0.7086\n",
      "Epoch 23/50\n",
      "563/563 [==============================] - 4s 7ms/step - loss: 0.5647 - accuracy: 0.7173 - precision: 0.7419 - val_loss: 0.6048 - val_accuracy: 0.6662 - val_precision: 0.7103\n",
      "Epoch 24/50\n",
      "563/563 [==============================] - 4s 7ms/step - loss: 0.5597 - accuracy: 0.7226 - precision: 0.7451 - val_loss: 0.6037 - val_accuracy: 0.6680 - val_precision: 0.7000\n",
      "Epoch 25/50\n",
      "563/563 [==============================] - 4s 7ms/step - loss: 0.5549 - accuracy: 0.7266 - precision: 0.7473 - val_loss: 0.6027 - val_accuracy: 0.6675 - val_precision: 0.6819\n",
      "Epoch 26/50\n",
      "563/563 [==============================] - 4s 7ms/step - loss: 0.5500 - accuracy: 0.7282 - precision: 0.7452 - val_loss: 0.6025 - val_accuracy: 0.6693 - val_precision: 0.6829\n",
      "Epoch 27/50\n",
      "563/563 [==============================] - 4s 7ms/step - loss: 0.5453 - accuracy: 0.7326 - precision: 0.7500 - val_loss: 0.6028 - val_accuracy: 0.6710 - val_precision: 0.6805\n",
      "Epoch 28/50\n",
      "563/563 [==============================] - 5s 9ms/step - loss: 0.5408 - accuracy: 0.7364 - precision: 0.7531 - val_loss: 0.6035 - val_accuracy: 0.6713 - val_precision: 0.6707\n",
      "Epoch 29/50\n",
      "563/563 [==============================] - 5s 9ms/step - loss: 0.5360 - accuracy: 0.7407 - precision: 0.7548 - val_loss: 0.6063 - val_accuracy: 0.6675 - val_precision: 0.7052\n",
      "Epoch 30/50\n",
      "563/563 [==============================] - 4s 8ms/step - loss: 0.5314 - accuracy: 0.7434 - precision: 0.7567 - val_loss: 0.6049 - val_accuracy: 0.6698 - val_precision: 0.6928\n",
      "Epoch 31/50\n",
      "563/563 [==============================] - 5s 8ms/step - loss: 0.5266 - accuracy: 0.7476 - precision: 0.7594 - val_loss: 0.6055 - val_accuracy: 0.6702 - val_precision: 0.6912\n",
      "Epoch 32/50\n",
      "563/563 [==============================] - 5s 9ms/step - loss: 0.5221 - accuracy: 0.7512 - precision: 0.7627 - val_loss: 0.6062 - val_accuracy: 0.6688 - val_precision: 0.6825\n",
      "Epoch 33/50\n",
      "563/563 [==============================] - 4s 8ms/step - loss: 0.5172 - accuracy: 0.7548 - precision: 0.7636 - val_loss: 0.6082 - val_accuracy: 0.6687 - val_precision: 0.6908\n",
      "Epoch 34/50\n",
      "563/563 [==============================] - 5s 8ms/step - loss: 0.5123 - accuracy: 0.7585 - precision: 0.7673 - val_loss: 0.6080 - val_accuracy: 0.6683 - val_precision: 0.6755\n",
      "Epoch 35/50\n",
      "563/563 [==============================] - 4s 8ms/step - loss: 0.5075 - accuracy: 0.7651 - precision: 0.7728 - val_loss: 0.6091 - val_accuracy: 0.6707 - val_precision: 0.6781\n",
      "Epoch 36/50\n",
      "563/563 [==============================] - 4s 7ms/step - loss: 0.5022 - accuracy: 0.7661 - precision: 0.7729 - val_loss: 0.6117 - val_accuracy: 0.6665 - val_precision: 0.6849\n",
      "Epoch 37/50\n",
      "563/563 [==============================] - 4s 7ms/step - loss: 0.4972 - accuracy: 0.7712 - precision: 0.7787 - val_loss: 0.6121 - val_accuracy: 0.6695 - val_precision: 0.6743\n",
      "Epoch 38/50\n",
      "563/563 [==============================] - 4s 6ms/step - loss: 0.4920 - accuracy: 0.7761 - precision: 0.7833 - val_loss: 0.6141 - val_accuracy: 0.6677 - val_precision: 0.6788\n",
      "Epoch 39/50\n",
      "563/563 [==============================] - 4s 7ms/step - loss: 0.4867 - accuracy: 0.7781 - precision: 0.7842 - val_loss: 0.6158 - val_accuracy: 0.6692 - val_precision: 0.6707\n",
      "Epoch 40/50\n",
      "563/563 [==============================] - 4s 7ms/step - loss: 0.4812 - accuracy: 0.7843 - precision: 0.7912 - val_loss: 0.6190 - val_accuracy: 0.6660 - val_precision: 0.6503\n",
      "Epoch 41/50\n",
      "563/563 [==============================] - 4s 7ms/step - loss: 0.4758 - accuracy: 0.7884 - precision: 0.7926 - val_loss: 0.6192 - val_accuracy: 0.6660 - val_precision: 0.6643\n",
      "Epoch 42/50\n",
      "563/563 [==============================] - 4s 8ms/step - loss: 0.4701 - accuracy: 0.7925 - precision: 0.7981 - val_loss: 0.6249 - val_accuracy: 0.6642 - val_precision: 0.6882\n",
      "Epoch 43/50\n",
      "563/563 [==============================] - 5s 9ms/step - loss: 0.4642 - accuracy: 0.7988 - precision: 0.8039 - val_loss: 0.6257 - val_accuracy: 0.6643 - val_precision: 0.6770\n",
      "Epoch 44/50\n",
      "563/563 [==============================] - 4s 7ms/step - loss: 0.4582 - accuracy: 0.8004 - precision: 0.8035 - val_loss: 0.6283 - val_accuracy: 0.6652 - val_precision: 0.6769\n",
      "Epoch 45/50\n",
      "563/563 [==============================] - 4s 7ms/step - loss: 0.4525 - accuracy: 0.8053 - precision: 0.8098 - val_loss: 0.6302 - val_accuracy: 0.6627 - val_precision: 0.6536\n",
      "Epoch 46/50\n",
      "563/563 [==============================] - 4s 7ms/step - loss: 0.4462 - accuracy: 0.8089 - precision: 0.8125 - val_loss: 0.6326 - val_accuracy: 0.6632 - val_precision: 0.6600\n",
      "Epoch 47/50\n",
      "563/563 [==============================] - 5s 8ms/step - loss: 0.4400 - accuracy: 0.8126 - precision: 0.8159 - val_loss: 0.6355 - val_accuracy: 0.6627 - val_precision: 0.6543\n",
      "Epoch 48/50\n",
      "563/563 [==============================] - 5s 8ms/step - loss: 0.4333 - accuracy: 0.8167 - precision: 0.8196 - val_loss: 0.6400 - val_accuracy: 0.6632 - val_precision: 0.6717\n",
      "Epoch 49/50\n",
      "563/563 [==============================] - 4s 8ms/step - loss: 0.4273 - accuracy: 0.8209 - precision: 0.8227 - val_loss: 0.6433 - val_accuracy: 0.6595 - val_precision: 0.6657\n",
      "Epoch 50/50\n",
      "563/563 [==============================] - 4s 8ms/step - loss: 0.4206 - accuracy: 0.8253 - precision: 0.8275 - val_loss: 0.6468 - val_accuracy: 0.6622 - val_precision: 0.6688\n"
     ]
    }
   ],
   "source": [
    "history = model.fit(\n",
    "    X_train,\n",
    "    y_train,\n",
    "    epochs=50,\n",
    "    validation_data=(X_val, y_val))"
   ]
  },
  {
   "cell_type": "code",
   "execution_count": 30,
   "id": "14393fee-ecef-4b62-ad8e-645b1ae31f2d",
   "metadata": {},
   "outputs": [
    {
     "name": "stdout",
     "output_type": "stream",
     "text": [
      "188/188 [==============================] - 1s 6ms/step - loss: 0.6301 - accuracy: 0.6748 - precision: 0.6617\n"
     ]
    }
   ],
   "source": [
    "test_loss, test_acc, test_prec = model.evaluate(X_test, y_test)"
   ]
  },
  {
   "cell_type": "code",
   "execution_count": 31,
   "id": "042bb7ee-ef67-40df-a8db-b2edcc4c0e56",
   "metadata": {},
   "outputs": [
    {
     "name": "stdout",
     "output_type": "stream",
     "text": [
      "test_acc: 0.674833357334137\n",
      "test_prec: 0.6617035865783691\n"
     ]
    }
   ],
   "source": [
    "print('test_acc:', test_acc)\n",
    "print('test_prec:', test_prec)"
   ]
  },
  {
   "cell_type": "code",
   "execution_count": null,
   "id": "dca5c438-6039-4181-b5ac-9a539c169cbb",
   "metadata": {},
   "outputs": [],
   "source": []
  }
 ],
 "metadata": {
  "kernelspec": {
   "display_name": "Python 3",
   "language": "python",
   "name": "python3"
  },
  "language_info": {
   "codemirror_mode": {
    "name": "ipython",
    "version": 3
   },
   "file_extension": ".py",
   "mimetype": "text/x-python",
   "name": "python",
   "nbconvert_exporter": "python",
   "pygments_lexer": "ipython3",
   "version": "3.8.8"
  }
 },
 "nbformat": 4,
 "nbformat_minor": 5
}
