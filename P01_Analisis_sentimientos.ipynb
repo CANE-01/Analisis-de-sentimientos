{
 "cells": [
  {
   "cell_type": "markdown",
   "id": "65bd757f-a0d4-473b-ba60-0d017f0144c3",
   "metadata": {},
   "source": [
    "# Prueba 1: Análisis de Sentimientos de Twitter\n",
    "\n",
    "● Para realizar esta prueba debes haber estudiado previamente todo el material\n",
    "disponibilizado correspondiente al módulo.\n",
    "● Una vez terminada la prueba, comprime la carpeta que contiene el desarrollo de los\n",
    "requerimientos solicitados y sube el .zip en el LMS.\n",
    "● Puntaje total: 10 puntos.\n",
    "● Desarrollo prueba:\n",
    "○ La prueba se debe desarrollar de manera Individual.\n",
    "○ Para la realización de la prueba necesitarás apoyarte del archivo Apoyo\n",
    "Prueba1.zip.\n",
    "\n",
    "Contexto\n",
    "\n",
    "A continuación se presenta un problema clásico en el análisis de texto: Extraer la polaridad\n",
    "de sentimiento asociado a un texto.\n",
    "Para esto, utilizaremos una base de datos provenientes de CrowdFlower que se entrega\n",
    "como archivo adjunto para esta prueba bajo el nombre de training_tweets.csv .\n",
    "Para descargar los datos puede ejecutar el siguiente código:"
   ]
  },
  {
   "cell_type": "markdown",
   "id": "92056311-23dc-46df-814f-3d9501f01b34",
   "metadata": {},
   "source": [
    "`wget`\n",
    "`https://www.crowdflower.com/wp-content/uploads/2016/07/text_emotion.csv`\n"
   ]
  },
  {
   "cell_type": "markdown",
   "id": "4ef119f6-015e-45b8-971f-5c6847174e32",
   "metadata": {},
   "source": [
    "El objetivo general de esta prueba es alcanzar el mejor desempeño posible para clasificar si\n",
    "un tweet tiene una polaridad positiva o negativa en cuanto al sentimiento que expresa.\n",
    "Para medir el desempeño, se evaluará con un conjunto de datos del cuál no tendrán acceso.\n",
    "De esta manera evitaremos que los modelos aprendan información sobre el conjunto de\n",
    "validación."
   ]
  },
  {
   "cell_type": "markdown",
   "id": "25293370-02ae-45a3-b7a1-2ad282e25b45",
   "metadata": {},
   "source": [
    "# Objetivos\n",
    "\n",
    "Para alcanzar el objetivo general, su trabajo se puede desagregar en los siguientes puntos:\n",
    "\n",
    "* 1. Generar un análisis exploratorio sobre los datos contenidos en el DataFrame,\n",
    "considerando palabras más comunes y distribución de las clases en el vector\n",
    "objetivo.\n",
    "\n",
    "* 2. Preprocesamiento de Texto:\n",
    "● Para trabajar adecuadamente con texto, debemos preprocesar y posteriormente\n",
    "representar cada oración como un conjunto de características.\n",
    "● Para preprocesar los tweets, debemos transformarlos a lower case. Un problema\n",
    "recurrente en el análisis de texto es la alta ocurrencia de palabras comunes. Se\n",
    "recomienda eliminarlas mediante la declaración de stopwords. Para generar la\n",
    "exclusión de stopwords, podemos utilizar la librería nltk (Natural Language ToolKit)\n",
    "y descargar los stopwords con la siguiente instrucción."
   ]
  },
  {
   "cell_type": "markdown",
   "id": "64714f0c-cb3d-4cfc-9fa7-7c3d72012e52",
   "metadata": {},
   "source": [
    "`import nltk`\n",
    "`nltk.download( 'stopwords' )`"
   ]
  },
  {
   "cell_type": "markdown",
   "id": "51d6331d-0614-4e97-b095-53678e83ce97",
   "metadata": {},
   "source": [
    "* ● Puede refinar los atributos a capturar mediante el proceso de lemantización (la\n",
    "reducción de variadas palabras con un tronco léxico común; ejemplo: Organización,\n",
    "Organiza, y Organizado presentan organi_ como tronco léxico en común) o\n",
    "Stemming (la reducción de una palabra a una expresión generalizable). Cabe\n",
    "destacar que ésta última carece de análisis morfológico del lenguaje.\n",
    "* ● Posterior a la refinación y preprocesamiento de las palabras, podemos representar\n",
    "cada oración en una matriz (o corpus) que permitirá reflejar la cantidad de\n",
    "ocurrencias de Wi palabra en un registro. Para ello, pueden hacer uso de las librerías\n",
    "de preprocesamiento sklearn.feature_extraction.text.CountVectorizer o\n",
    "sklearn.feature_extraction.text.TfidfVectorizer . De esta manera,\n",
    "tendremos un conjunto de características es mediante la frecuencia de ocurrencia de\n",
    "una palabra o término en el texto."
   ]
  },
  {
   "cell_type": "markdown",
   "id": "7fbc31a7-4030-4ba7-a16c-8d4e067a29dc",
   "metadata": {},
   "source": [
    "* 3. Preparación del vector objetivo y las matrices de entrenamiento y validación:\n",
    "    ● Nos interesa trabajar con dos tipos de emociones: positivas o negativas. Para ello\n",
    "    deberá generar la recodificación de cada una de las clases en una de las dos\n",
    "    emociones:"
   ]
  },
  {
   "cell_type": "markdown",
   "id": "8a06b135-02e9-457b-9d14-f3ca6eabf75a",
   "metadata": {},
   "source": [
    "|Original | Recodificación|\n",
    "|---|---|\n",
    "|'worry' | Negativa|\n",
    "|'happiness' | Positiva|\n",
    "|'sadness' | Negativa|\n",
    "|'love' | Positiva|\n",
    "|'surprise' | Positiva|\n",
    "|'fun' | Positiva |\n",
    "|'relief' | Positiva|\n",
    "|'hate' | Negativa|\n",
    "|'empty' | Negativa|\n",
    "|'enthusiasm' | Positiva|\n",
    "|'boredom' | Negativa|\n",
    "|'anger' | Negativa|"
   ]
  },
  {
   "cell_type": "markdown",
   "id": "1f076947-d0cc-4ea8-869b-64eab981d8e2",
   "metadata": {},
   "source": [
    "* Si el tweet está asignado como neutral, clasifíquelo aleatoriamente entre positivo o negativo."
   ]
  },
  {
   "cell_type": "markdown",
   "id": "990e3f97-6a8b-4f53-9450-0bf05874e914",
   "metadata": {},
   "source": [
    "* 4. Entrenamiento de modelos:\n",
    "    ○ En base a los modelos vistos en clase, implemente por lo menos 5. Para cada\n",
    "    uno de ellos justifique la elección de hiper parámetros. Si implementa\n",
    "    búsqueda de grilla para cada uno de ellos, defina el rango de valores a tomar\n",
    "    en cada hiper parámetro.\n",
    "    ○ Reporte el desempeño de cada modelo en las muestras de entrenamiento y\n",
    "    validación. Comente sobre la capacidad de generalización de cada uno de\n",
    "    ellos haciendo uso de los conceptos vistos en el curso."
   ]
  },
  {
   "cell_type": "markdown",
   "id": "a7e752e6-0a28-4cf6-9164-4e63f2c101e8",
   "metadata": {},
   "source": [
    "* 5. Seleccione los 2 mejores modelos, serialicelos y envíalos a evaluación. Recuerde que\n",
    "    el modelo serializado debe ser posterior al fit , para poder ejecutar predict en los\n",
    "    nuevos datos. "
   ]
  },
  {
   "cell_type": "markdown",
   "id": "4ee7efb9-b389-48ba-91d2-580a8772de77",
   "metadata": {},
   "source": [
    "# Evaluación\n",
    "\n",
    "La siguiente rúbrica detalla los elementos que se evaluarán en el entregable final (Hito 3) de\n",
    "la prueba, es decir, una vez que su trabajo esté completo:\n",
    "* ● Notebook (9 Puntos) : El notebook debe ser un reporte con la estrategia analítica, explicando los siguientes puntos:\n",
    "* ○ La definición de los requerimientos, la definición del vector objetivo, la definición de las métricas a utilizar. (1 Puntos)\n",
    "* ○ Un análisis exploratorio (univariado y gráfico). Como mínimo, debe analizar el comportamiento del vector objetivo antes del preprocesamiento y posterior al procesamiento. (3 Puntos)\n",
    "* ○ La estrategia de preprocesamiento/feature engineering. (3 Puntos)\n",
    "* ○ La elección de los algoritmos a implementar, así como sus hiper parámetros.\n",
    "* Un reporte sobre qué modelos se seleccionarán. (2 Puntos)\n",
    "* ● Modelos serializados (1 Puntos) :\n",
    "* ○ Los modelos deben estar serializados con la siguiente nomenclatura: nombre_grupo-modelo -1 y nombre_grupo-modelo -2 .\n",
    "* La evaluación de los modelos serializados se realizará en función al desempeño predictivo del modelo en un conjunto de datos externos. La primera instancia es evaluar los dos modelos enviados a competencia por el grupo, preservando el mejor modelo para la competencia con los otros grupos. El segundo paso es rankear según el desempeño entre grupos. El alumno debe obtener un mínimo de 7 puntos para aprobar."
   ]
  },
  {
   "cell_type": "code",
   "execution_count": 1,
   "id": "cefc687c-1542-40cb-bcc4-4a49e4030ec0",
   "metadata": {},
   "outputs": [],
   "source": [
    "# Importacion de librerías\n",
    "import numpy as np\n",
    "import pandas as pd\n",
    "import scipy.stats as stats\n",
    "import matplotlib.pyplot as plt\n",
    "import statsmodels.api as sm\n",
    "import statsmodels.formula.api as smf\n",
    "import seaborn as sns\n",
    "import warnings\n",
    "warnings.filterwarnings(\"ignore\", category=DeprecationWarning)\n",
    "import missingno as msno\n",
    "import random\n",
    "\n",
    "from nltk.stem.wordnet import WordNetLemmatizer\n",
    "\n",
    "import re\n",
    "from sklearn.feature_extraction.text import CountVectorizer\n",
    "from sklearn.model_selection import train_test_split\n",
    "from sklearn.naive_bayes import MultinomialNB\n",
    "from sklearn.metrics import classification_report\n",
    "from sklearn.metrics import confusion_matrix\n",
    "from xgboost import XGBClassifier\n",
    "from sklearn.ensemble import RandomForestClassifier\n",
    "from sklearn.linear_model import LogisticRegression\n",
    "from sklearn.metrics import roc_curve\n",
    "from sklearn.metrics import roc_auc_score\n",
    "from nltk.corpus import stopwords\n",
    "from sklearn.ensemble import AdaBoostClassifier\n",
    "from sklearn.ensemble import GradientBoostingClassifier\n",
    "from sklearn.model_selection import GridSearchCV\n",
    "from sklearn.decomposition import LatentDirichletAllocation\n",
    "from sklearn.metrics import roc_curve\n",
    "from sklearn.metrics import roc_auc_score"
   ]
  },
  {
   "cell_type": "code",
   "execution_count": 2,
   "id": "fe3d3da6-cc3f-45c2-830e-d0a29b2934cc",
   "metadata": {},
   "outputs": [
    {
     "name": "stderr",
     "output_type": "stream",
     "text": [
      "[nltk_data] Downloading package stopwords to /home/cris/nltk_data...\n",
      "[nltk_data]   Package stopwords is already up-to-date!\n",
      "[nltk_data] Downloading package wordnet to /home/cris/nltk_data...\n",
      "[nltk_data]   Package wordnet is already up-to-date!\n"
     ]
    }
   ],
   "source": [
    "import nltk\n",
    "nltk.download('stopwords')\n",
    "nltk.download('wordnet')\n",
    "lmtzr = WordNetLemmatizer()"
   ]
  },
  {
   "cell_type": "code",
   "execution_count": 3,
   "id": "87d64b72-33da-4d30-b6f6-60461ea5dc94",
   "metadata": {},
   "outputs": [],
   "source": [
    "# Carga csv\n",
    "df = pd.read_csv('training_tweets.csv').drop(columns=['Unnamed: 0'], axis = 1)"
   ]
  },
  {
   "cell_type": "code",
   "execution_count": 4,
   "id": "ddbd6aec-0700-4c09-a650-6c533225a993",
   "metadata": {},
   "outputs": [
    {
     "data": {
      "text/html": [
       "<div>\n",
       "<style scoped>\n",
       "    .dataframe tbody tr th:only-of-type {\n",
       "        vertical-align: middle;\n",
       "    }\n",
       "\n",
       "    .dataframe tbody tr th {\n",
       "        vertical-align: top;\n",
       "    }\n",
       "\n",
       "    .dataframe thead th {\n",
       "        text-align: right;\n",
       "    }\n",
       "</style>\n",
       "<table border=\"1\" class=\"dataframe\">\n",
       "  <thead>\n",
       "    <tr style=\"text-align: right;\">\n",
       "      <th></th>\n",
       "      <th>content</th>\n",
       "      <th>sentiment</th>\n",
       "    </tr>\n",
       "  </thead>\n",
       "  <tbody>\n",
       "    <tr>\n",
       "      <th>0</th>\n",
       "      <td>Happy Mama's day to all mothers</td>\n",
       "      <td>love</td>\n",
       "    </tr>\n",
       "    <tr>\n",
       "      <th>1</th>\n",
       "      <td>@LysdelTellez I am lost. Please help me find a...</td>\n",
       "      <td>worry</td>\n",
       "    </tr>\n",
       "    <tr>\n",
       "      <th>2</th>\n",
       "      <td>@BoomKatt yes yes I AM, networking whore to th...</td>\n",
       "      <td>happiness</td>\n",
       "    </tr>\n",
       "    <tr>\n",
       "      <th>3</th>\n",
       "      <td>you@snapplynn Wish that would have been your t...</td>\n",
       "      <td>neutral</td>\n",
       "    </tr>\n",
       "    <tr>\n",
       "      <th>4</th>\n",
       "      <td>now i am doing the MicroEconomics project  iha...</td>\n",
       "      <td>worry</td>\n",
       "    </tr>\n",
       "  </tbody>\n",
       "</table>\n",
       "</div>"
      ],
      "text/plain": [
       "                                             content  sentiment\n",
       "0                    Happy Mama's day to all mothers       love\n",
       "1  @LysdelTellez I am lost. Please help me find a...      worry\n",
       "2  @BoomKatt yes yes I AM, networking whore to th...  happiness\n",
       "3  you@snapplynn Wish that would have been your t...    neutral\n",
       "4  now i am doing the MicroEconomics project  iha...      worry"
      ]
     },
     "execution_count": 4,
     "metadata": {},
     "output_type": "execute_result"
    }
   ],
   "source": [
    "df.head()"
   ]
  },
  {
   "cell_type": "code",
   "execution_count": 5,
   "id": "dcbe3ac6-13ee-48a3-b9da-10e7252a9975",
   "metadata": {},
   "outputs": [
    {
     "data": {
      "text/plain": [
       "(30000, 2)"
      ]
     },
     "execution_count": 5,
     "metadata": {},
     "output_type": "execute_result"
    }
   ],
   "source": [
    "# Cantidad de datos\n",
    "df.shape"
   ]
  },
  {
   "cell_type": "code",
   "execution_count": 6,
   "id": "71ed5912-5291-48c4-a02f-e46de7cd420a",
   "metadata": {},
   "outputs": [
    {
     "data": {
      "text/plain": [
       "content      object\n",
       "sentiment    object\n",
       "dtype: object"
      ]
     },
     "execution_count": 6,
     "metadata": {},
     "output_type": "execute_result"
    }
   ],
   "source": [
    "# Tipo de datos\n",
    "df.dtypes"
   ]
  },
  {
   "cell_type": "code",
   "execution_count": 7,
   "id": "920fedbe-b50c-4850-9c57-ce274b76e0b3",
   "metadata": {},
   "outputs": [
    {
     "data": {
      "text/plain": [
       "<AxesSubplot:>"
      ]
     },
     "execution_count": 7,
     "metadata": {},
     "output_type": "execute_result"
    },
    {
     "data": {
      "image/png": "[encoded data removed]",
      "text/plain": [
       "<Figure size 1800x720 with 3 Axes>"
      ]
     },
     "metadata": {
      "needs_background": "light"
     },
     "output_type": "display_data"
    }
   ],
   "source": [
    "# Valores nulos\n",
    "msno.bar(df)"
   ]
  },
  {
   "cell_type": "markdown",
   "id": "4ef6375f-00e4-4f70-a74d-20d765430308",
   "metadata": {},
   "source": [
    "No hay valores nulos en el csv"
   ]
  },
  {
   "cell_type": "code",
   "execution_count": 8,
   "id": "d4a709ef-4aaf-4131-9ad3-fa267639577f",
   "metadata": {},
   "outputs": [
    {
     "data": {
      "image/png": "[encoded data removed]",
      "text/plain": [
       "<Figure size 432x288 with 1 Axes>"
      ]
     },
     "metadata": {
      "needs_background": "light"
     },
     "output_type": "display_data"
    }
   ],
   "source": [
    "# Grafica de frecuencias por sentimientos\n",
    "df['sentiment'].value_counts().plot.barh()\n",
    "plt.title('Frecuencia de sentimientos')\n",
    "plt.show()"
   ]
  },
  {
   "cell_type": "markdown",
   "id": "07e54c62-b503-46f8-a56b-c1a0fa3be0e6",
   "metadata": {},
   "source": [
    "La categoría neutral es la más frecuente, seguida por preocupacion(worry) y happiness(felicidad). De acuerdo a lo indicado en la recodificacion la data se encuentra balanceada entre sentimientos positivos y negativos."
   ]
  },
  {
   "cell_type": "code",
   "execution_count": 9,
   "id": "83ba9b74-3efc-4b8f-8731-1ded42fcd85e",
   "metadata": {},
   "outputs": [],
   "source": [
    "# Reemplazo categorias(Positiva, Negativa, NaN)\n",
    "df['sentiment']=df['sentiment'].replace(['happiness', 'love', 'surprise', 'fun', 'relief', 'enthusiasm'], 'Positiva')\n",
    "df['sentiment']=df['sentiment'].replace(['worry', 'sadness', 'hate', 'empty', 'boredom', 'anger'], 'Negativa')\n",
    "df['sentiment']=df['sentiment'].replace(['neutral'], np.nan)"
   ]
  },
  {
   "cell_type": "code",
   "execution_count": 10,
   "id": "a36cd563-0921-4473-9efb-e009d86d96b6",
   "metadata": {},
   "outputs": [],
   "source": [
    "# Reemplazo aleatorio NaN en Positiva y Negativa\n",
    "mylist = [\"Positiva\", \"Negativa\"]\n",
    "np.random.seed(4982)\n",
    "df['sentiment'] = df['sentiment'].fillna(pd.Series(np.random.choice(mylist, size = len(df.index))))"
   ]
  },
  {
   "cell_type": "code",
   "execution_count": 11,
   "id": "ee9af522-1f68-4b62-854f-2fde49d80f32",
   "metadata": {},
   "outputs": [
    {
     "data": {
      "image/png": "[encoded data removed]",
      "text/plain": [
       "<Figure size 432x288 with 1 Axes>"
      ]
     },
     "metadata": {
      "needs_background": "light"
     },
     "output_type": "display_data"
    }
   ],
   "source": [
    "# Distribucion de datos \n",
    "df['sentiment'].value_counts().plot.barh()\n",
    "plt.title('Conteo de tweets negativos y positivos')\n",
    "plt.show()"
   ]
  },
  {
   "cell_type": "code",
   "execution_count": 12,
   "id": "13fdf9db-6dc0-4519-a3d6-d28c38a9d8db",
   "metadata": {},
   "outputs": [],
   "source": [
    "# Se genera objeto con stopwords\n",
    "stop = stopwords.words('english')"
   ]
  },
  {
   "cell_type": "code",
   "execution_count": 13,
   "id": "a64a2859-bcd5-45ff-94c9-3238f4ed7c51",
   "metadata": {},
   "outputs": [],
   "source": [
    "def clean_text(df, text_field):\n",
    "    \n",
    "    #se convierte el texto a minusculas\n",
    "    df[text_field] = df[text_field].str.lower()\n",
    "    \n",
    "    #expansion de expresiones cortas del ingles \n",
    "    df[text_field] = df[text_field].apply(lambda x: re.sub(r\"can't\", \"can not\", x))  \n",
    "    df[text_field] = df[text_field].apply(lambda x: re.sub(r\"n\\'t\", \" not\", x))\n",
    "    df[text_field] = df[text_field].apply(lambda x: re.sub(r\"\\'re\", \" are\", x))\n",
    "    df[text_field] = df[text_field].apply(lambda x: re.sub(r\"\\'m\",\" am\", x))\n",
    "    df[text_field] = df[text_field].apply(lambda x: re.sub(r\"\\'s\",\" is\", x))\n",
    "    df[text_field] = df[text_field].apply(lambda x: re.sub(r\"\\'ll\",\" will\", x))\n",
    "    df[text_field] = df[text_field].apply(lambda x: re.sub(r\"\\'ve\",\" have\", x))\n",
    "    df[text_field] = df[text_field].apply(lambda x: re.sub(r\"\\'t\", \" not\", x))\n",
    "    \n",
    "    #se remueven @user, numeros, emoticones, urls, puntuaciones\n",
    "    df[text_field] = df[text_field].apply(lambda x: re.sub(r\"(@[A-Za-z0-9]+)|([^0-9A-Za-z \\t])|(\\w+:\\/\\/\\S+)|^rt|http.+?\", \"\", x))\n",
    "    \n",
    "    #se remueves stopwords y se acortan los espacios \n",
    "    df[text_field] = df[text_field].apply(lambda x: ' '.join([word for word in x.split() if word not in (stop)]))\n",
    "    \n",
    "    #Lematizacion de palabras\n",
    "    df[text_field] = df[text_field].apply(lambda x: \" \".join([lmtzr.lemmatize(word) for word in x.split()]))\n"
   ]
  },
  {
   "cell_type": "code",
   "execution_count": 14,
   "id": "22a076bf-3e17-4003-9147-5499204b0370",
   "metadata": {},
   "outputs": [],
   "source": [
    "clean_text(df, 'content')"
   ]
  },
  {
   "cell_type": "code",
   "execution_count": 15,
   "id": "852b8afc-3276-4369-8d9c-72ffa4a6b9e7",
   "metadata": {},
   "outputs": [],
   "source": [
    "# Se genera matriz y contador\n",
    "count_vectorizer=CountVectorizer()\n",
    "count_vectorizer_fit = count_vectorizer.fit_transform(df['content'])\n",
    "words = count_vectorizer.get_feature_names()\n",
    "words_freq = count_vectorizer_fit.toarray().sum(axis=0)"
   ]
  },
  {
   "cell_type": "code",
   "execution_count": 16,
   "id": "bae6e9a7-c9b9-4e02-b068-7897b74e9a4b",
   "metadata": {},
   "outputs": [],
   "source": [
    "#Se genera dataframe para para mostrar las 100 palabras mas repetidas en la base de datos\n",
    "df_top_words = pd.DataFrame(data= {'freq': words_freq}, index = words)\n",
    "by_freq = df_top_words.sort_values('freq',ascending = False)"
   ]
  },
  {
   "cell_type": "code",
   "execution_count": 17,
   "id": "0643612c-5ff9-428d-b240-926542e1143d",
   "metadata": {},
   "outputs": [
    {
     "data": {
      "image/png": "[encoded data removed]",
      "text/plain": [
       "<Figure size 432x288 with 1 Axes>"
      ]
     },
     "metadata": {
      "needs_background": "light"
     },
     "output_type": "display_data"
    }
   ],
   "source": [
    "# Grafica 20 palabras mas usadas en Twitter\n",
    "by_freq.head(10).plot.barh()\n",
    "plt.title('Frecuencia de palabras más usadas en twitter')\n",
    "plt.show()"
   ]
  },
  {
   "cell_type": "code",
   "execution_count": 18,
   "id": "9e19cc2d-9ca2-4ded-9885-829abb2801ee",
   "metadata": {},
   "outputs": [],
   "source": [
    "X_features = count_vectorizer_fit\n",
    "y_label = df['sentiment']"
   ]
  },
  {
   "cell_type": "code",
   "execution_count": 19,
   "id": "a02b1043-bbdc-40fb-b0ef-487cf0d1f7e8",
   "metadata": {},
   "outputs": [],
   "source": [
    "X_train, X_test, y_train, y_test = train_test_split(X_features, y_label, test_size = 0.2, random_state = 4982)"
   ]
  },
  {
   "cell_type": "code",
   "execution_count": 21,
   "id": "ad325a4c-495f-40ee-bb97-fb348cdbc34d",
   "metadata": {},
   "outputs": [],
   "source": [
    "import pickle"
   ]
  },
  {
   "cell_type": "code",
   "execution_count": 39,
   "id": "62789c4f-977d-42a5-86ed-8c66cc270d7c",
   "metadata": {},
   "outputs": [],
   "source": [
    "pickle.dump(X_train,open('X_train.sav','wb'))\n",
    "pickle.dump(X_test,open('X_test.sav','wb'))\n",
    "pickle.dump(y_train,open('y_train.sav','wb'))\n",
    "pickle.dump(y_test,open('y_test.sav','wb'))"
   ]
  },
  {
   "cell_type": "markdown",
   "id": "93261873-392f-45ad-872a-2922349fae16",
   "metadata": {},
   "source": [
    "# Bayes Ingenuo"
   ]
  },
  {
   "cell_type": "code",
   "execution_count": 20,
   "id": "d1911578-e561-403c-a2fe-24f9d6238069",
   "metadata": {},
   "outputs": [],
   "source": [
    "NaiveBclassifier = MultinomialNB()\n",
    "model_bayes = NaiveBclassifier.fit(X_train,y_train)"
   ]
  },
  {
   "cell_type": "code",
   "execution_count": 21,
   "id": "04fcc1dc-193a-4392-9339-99108a8cbb9c",
   "metadata": {},
   "outputs": [
    {
     "name": "stdout",
     "output_type": "stream",
     "text": [
      "              precision    recall  f1-score   support\n",
      "\n",
      "    Negativa       0.68      0.69      0.69      3114\n",
      "    Positiva       0.66      0.65      0.65      2886\n",
      "\n",
      "    accuracy                           0.67      6000\n",
      "   macro avg       0.67      0.67      0.67      6000\n",
      "weighted avg       0.67      0.67      0.67      6000\n",
      "\n"
     ]
    }
   ],
   "source": [
    "yhat_nb = model_bayes.predict(X_test)\n",
    "print(classification_report(y_test, yhat_nb))"
   ]
  },
  {
   "cell_type": "code",
   "execution_count": 22,
   "id": "e824f6f0-ae27-46a8-ad6a-6acfbc42a712",
   "metadata": {},
   "outputs": [
    {
     "data": {
      "text/html": [
       "<div>\n",
       "<style scoped>\n",
       "    .dataframe tbody tr th:only-of-type {\n",
       "        vertical-align: middle;\n",
       "    }\n",
       "\n",
       "    .dataframe tbody tr th {\n",
       "        vertical-align: top;\n",
       "    }\n",
       "\n",
       "    .dataframe thead th {\n",
       "        text-align: right;\n",
       "    }\n",
       "</style>\n",
       "<table border=\"1\" class=\"dataframe\">\n",
       "  <thead>\n",
       "    <tr style=\"text-align: right;\">\n",
       "      <th>col_0</th>\n",
       "      <th>Negativa</th>\n",
       "      <th>Positiva</th>\n",
       "    </tr>\n",
       "    <tr>\n",
       "      <th>sentiment</th>\n",
       "      <th></th>\n",
       "      <th></th>\n",
       "    </tr>\n",
       "  </thead>\n",
       "  <tbody>\n",
       "    <tr>\n",
       "      <th>Negativa</th>\n",
       "      <td>2163</td>\n",
       "      <td>951</td>\n",
       "    </tr>\n",
       "    <tr>\n",
       "      <th>Positiva</th>\n",
       "      <td>1024</td>\n",
       "      <td>1862</td>\n",
       "    </tr>\n",
       "  </tbody>\n",
       "</table>\n",
       "</div>"
      ],
      "text/plain": [
       "col_0      Negativa  Positiva\n",
       "sentiment                    \n",
       "Negativa       2163       951\n",
       "Positiva       1024      1862"
      ]
     },
     "execution_count": 22,
     "metadata": {},
     "output_type": "execute_result"
    }
   ],
   "source": [
    "#Se genera matriz de confusion\n",
    "pd.crosstab(y_test, yhat_nb)"
   ]
  },
  {
   "cell_type": "code",
   "execution_count": 38,
   "id": "90500f4e-b184-4f1a-8c6e-bf8ec8d843d4",
   "metadata": {},
   "outputs": [],
   "source": [
    "pickle.dump(model_bayes,open('model_bayes.sav','wb'))"
   ]
  },
  {
   "cell_type": "markdown",
   "id": "082da244-147b-418d-9d19-ea79a4239102",
   "metadata": {},
   "source": [
    "# AdaBoost"
   ]
  },
  {
   "cell_type": "code",
   "execution_count": 23,
   "id": "7700443e-4957-4d2b-a700-483703b46138",
   "metadata": {},
   "outputs": [],
   "source": [
    "param_grid_ada = {'learning_rate': [0.01, 0.1, 0.5] ,'n_estimators': [50,100, 500, 1000, 2000]}"
   ]
  },
  {
   "cell_type": "code",
   "execution_count": 24,
   "id": "51312116-ff6b-43a2-a607-a28315be086e",
   "metadata": {},
   "outputs": [],
   "source": [
    "ada_grid = GridSearchCV(AdaBoostClassifier(),\n",
    "param_grid = param_grid_ada, cv=5, n_jobs= -1).fit(X_train, y_train)"
   ]
  },
  {
   "cell_type": "code",
   "execution_count": 25,
   "id": "21a793ea-7135-40e7-98c1-09e659c407f3",
   "metadata": {},
   "outputs": [
    {
     "data": {
      "text/plain": [
       "AdaBoostClassifier(learning_rate=0.1, n_estimators=1000)"
      ]
     },
     "execution_count": 25,
     "metadata": {},
     "output_type": "execute_result"
    }
   ],
   "source": [
    "#Se indica la mejor combinacion de hiperparametros para adaboost\n",
    "ada_grid.best_estimator_"
   ]
  },
  {
   "cell_type": "code",
   "execution_count": 26,
   "id": "ab431141-2ef5-4e27-ab53-71aac012878a",
   "metadata": {},
   "outputs": [],
   "source": [
    "ada = AdaBoostClassifier(learning_rate = 0.1, n_estimators=1000)\n",
    "model_ada = ada.fit(X_train, y_train)"
   ]
  },
  {
   "cell_type": "code",
   "execution_count": 43,
   "id": "b2893977-de95-487a-8434-a11215ce8ab9",
   "metadata": {},
   "outputs": [
    {
     "name": "stdout",
     "output_type": "stream",
     "text": [
      "              precision    recall  f1-score   support\n",
      "\n",
      "    Negativa       0.63      0.80      0.71      3114\n",
      "    Positiva       0.70      0.50      0.58      2886\n",
      "\n",
      "    accuracy                           0.66      6000\n",
      "   macro avg       0.67      0.65      0.65      6000\n",
      "weighted avg       0.67      0.66      0.65      6000\n",
      "\n"
     ]
    }
   ],
   "source": [
    "#Se reportan las metricas para adaboost\n",
    "yhat_ada = model_ada.predict(X_test)\n",
    "print(classification_report(y_test, y_hat_ada))"
   ]
  },
  {
   "cell_type": "code",
   "execution_count": 44,
   "id": "36caa088-82aa-48b3-9fc8-74b26e8865d3",
   "metadata": {},
   "outputs": [
    {
     "data": {
      "text/html": [
       "<div>\n",
       "<style scoped>\n",
       "    .dataframe tbody tr th:only-of-type {\n",
       "        vertical-align: middle;\n",
       "    }\n",
       "\n",
       "    .dataframe tbody tr th {\n",
       "        vertical-align: top;\n",
       "    }\n",
       "\n",
       "    .dataframe thead th {\n",
       "        text-align: right;\n",
       "    }\n",
       "</style>\n",
       "<table border=\"1\" class=\"dataframe\">\n",
       "  <thead>\n",
       "    <tr style=\"text-align: right;\">\n",
       "      <th>col_0</th>\n",
       "      <th>Negativa</th>\n",
       "      <th>Positiva</th>\n",
       "    </tr>\n",
       "    <tr>\n",
       "      <th>sentiment</th>\n",
       "      <th></th>\n",
       "      <th></th>\n",
       "    </tr>\n",
       "  </thead>\n",
       "  <tbody>\n",
       "    <tr>\n",
       "      <th>Negativa</th>\n",
       "      <td>2506</td>\n",
       "      <td>608</td>\n",
       "    </tr>\n",
       "    <tr>\n",
       "      <th>Positiva</th>\n",
       "      <td>1449</td>\n",
       "      <td>1437</td>\n",
       "    </tr>\n",
       "  </tbody>\n",
       "</table>\n",
       "</div>"
      ],
      "text/plain": [
       "col_0      Negativa  Positiva\n",
       "sentiment                    \n",
       "Negativa       2506       608\n",
       "Positiva       1449      1437"
      ]
     },
     "execution_count": 44,
     "metadata": {},
     "output_type": "execute_result"
    }
   ],
   "source": [
    "#Se genera matriz de confusion\n",
    "pd.crosstab(y_test, yhat_ada)"
   ]
  },
  {
   "cell_type": "code",
   "execution_count": 40,
   "id": "8d8dbc2f-eb7a-432f-9422-9caf6b98672c",
   "metadata": {},
   "outputs": [],
   "source": [
    "pickle.dump(model_ada,open('model_ada.sav','wb'))"
   ]
  },
  {
   "cell_type": "markdown",
   "id": "f1292cf9-3456-4cc5-9813-2fffe2984ee5",
   "metadata": {},
   "source": [
    "# GBoosting"
   ]
  },
  {
   "cell_type": "code",
   "execution_count": 28,
   "id": "1ee70d73-0bd4-454a-9f67-b6110a1a7ede",
   "metadata": {},
   "outputs": [],
   "source": [
    "param_grid_gb = {'learning_rate': [0.01, 0.1, 0.5], 'n_estimators': [50,100, 500, 1000,2000],\n",
    "                    'subsample': [0.1,0.5,0.9]}"
   ]
  },
  {
   "cell_type": "code",
   "execution_count": 29,
   "id": "41bd9a17-fbab-47c8-9321-2bc2b4e37515",
   "metadata": {},
   "outputs": [],
   "source": [
    "gb_grid = GridSearchCV(GradientBoostingClassifier(),\n",
    "param_grid = param_grid_gb,\n",
    "cv=5, n_jobs = -1).fit(X_train, y_train)"
   ]
  },
  {
   "cell_type": "code",
   "execution_count": 32,
   "id": "47817dcf-a1b5-4862-9eb9-913a105ab019",
   "metadata": {},
   "outputs": [
    {
     "data": {
      "text/plain": [
       "{'learning_rate': 0.1, 'n_estimators': 1000, 'subsample': 0.5}"
      ]
     },
     "execution_count": 32,
     "metadata": {},
     "output_type": "execute_result"
    }
   ],
   "source": [
    "gb_grid.best_params_"
   ]
  },
  {
   "cell_type": "code",
   "execution_count": 33,
   "id": "2b9cd52b-33c7-4507-8488-bd75814c1d9b",
   "metadata": {},
   "outputs": [],
   "source": [
    "model_g = GradientBoostingClassifier(learning_rate = 0.1, n_estimators= 1000, subsample = 0.5)\n",
    "model_gb = model_g.fit(X_train,y_train)"
   ]
  },
  {
   "cell_type": "code",
   "execution_count": 46,
   "id": "a245b3aa-8341-4d95-b046-3d38b001ed57",
   "metadata": {},
   "outputs": [
    {
     "name": "stdout",
     "output_type": "stream",
     "text": [
      "              precision    recall  f1-score   support\n",
      "\n",
      "    Negativa       0.67      0.73      0.70      3114\n",
      "    Positiva       0.67      0.61      0.64      2886\n",
      "\n",
      "    accuracy                           0.67      6000\n",
      "   macro avg       0.67      0.67      0.67      6000\n",
      "weighted avg       0.67      0.67      0.67      6000\n",
      "\n"
     ]
    }
   ],
   "source": [
    "yhat_gb = model_gb.predict(X_test)\n",
    "print(classification_report(y_test, yhat_gb))"
   ]
  },
  {
   "cell_type": "code",
   "execution_count": 47,
   "id": "47d6a17c-c9de-4cdd-9c42-1ce0784406a7",
   "metadata": {},
   "outputs": [
    {
     "data": {
      "text/html": [
       "<div>\n",
       "<style scoped>\n",
       "    .dataframe tbody tr th:only-of-type {\n",
       "        vertical-align: middle;\n",
       "    }\n",
       "\n",
       "    .dataframe tbody tr th {\n",
       "        vertical-align: top;\n",
       "    }\n",
       "\n",
       "    .dataframe thead th {\n",
       "        text-align: right;\n",
       "    }\n",
       "</style>\n",
       "<table border=\"1\" class=\"dataframe\">\n",
       "  <thead>\n",
       "    <tr style=\"text-align: right;\">\n",
       "      <th>col_0</th>\n",
       "      <th>Negativa</th>\n",
       "      <th>Positiva</th>\n",
       "    </tr>\n",
       "    <tr>\n",
       "      <th>sentiment</th>\n",
       "      <th></th>\n",
       "      <th></th>\n",
       "    </tr>\n",
       "  </thead>\n",
       "  <tbody>\n",
       "    <tr>\n",
       "      <th>Negativa</th>\n",
       "      <td>2266</td>\n",
       "      <td>848</td>\n",
       "    </tr>\n",
       "    <tr>\n",
       "      <th>Positiva</th>\n",
       "      <td>1129</td>\n",
       "      <td>1757</td>\n",
       "    </tr>\n",
       "  </tbody>\n",
       "</table>\n",
       "</div>"
      ],
      "text/plain": [
       "col_0      Negativa  Positiva\n",
       "sentiment                    \n",
       "Negativa       2266       848\n",
       "Positiva       1129      1757"
      ]
     },
     "execution_count": 47,
     "metadata": {},
     "output_type": "execute_result"
    }
   ],
   "source": [
    "#Se genera matriz de confusion\n",
    "pd.crosstab(y_test, yhat_gb)"
   ]
  },
  {
   "cell_type": "code",
   "execution_count": 41,
   "id": "cc6af647-d4e8-45eb-89ed-5cc574bb9bd3",
   "metadata": {},
   "outputs": [],
   "source": [
    "pickle.dump(model_gb,open('model_gb.sav','wb'))"
   ]
  },
  {
   "cell_type": "markdown",
   "id": "9baee573-ed3c-4574-8d1c-a78846562e86",
   "metadata": {},
   "source": [
    "# Random Forest"
   ]
  },
  {
   "cell_type": "code",
   "execution_count": 49,
   "id": "d99f54d2-6e19-4837-a051-0e47465b9e33",
   "metadata": {},
   "outputs": [],
   "source": [
    "param_grid_rf={'n_estimators' : range(1, 1200, 250),\n",
    "                          'max_features':[None,'sqrt', 'log2'],\n",
    "                          'max_depth':[None, 3, 10, 20],\n",
    "                          'criterion'   : ['gini', 'entropy']}"
   ]
  },
  {
   "cell_type": "code",
   "execution_count": 50,
   "id": "5e6bc70b-0f8d-4382-96bd-b569f5682cf0",
   "metadata": {},
   "outputs": [],
   "source": [
    "rf_grid = GridSearchCV(RandomForestClassifier(),\n",
    "param_grid = param_grid_rf,\n",
    "cv=5, n_jobs = -1).fit(X_train, y_train)"
   ]
  },
  {
   "cell_type": "code",
   "execution_count": 51,
   "id": "f9c21261-b392-4e4f-9110-80895861366b",
   "metadata": {},
   "outputs": [
    {
     "data": {
      "text/plain": [
       "{'criterion': 'gini',\n",
       " 'max_depth': 20,\n",
       " 'max_features': 'sqrt',\n",
       " 'n_estimators': 1001}"
      ]
     },
     "execution_count": 51,
     "metadata": {},
     "output_type": "execute_result"
    }
   ],
   "source": [
    "rf_grid.best_params_"
   ]
  },
  {
   "cell_type": "code",
   "execution_count": 53,
   "id": "23df7d98-fca8-49e3-a290-37aa2dfa04c7",
   "metadata": {},
   "outputs": [],
   "source": [
    "model_rf = RandomForestClassifier(n_estimators= 1000, criterion = 'gini', max_depth = 20, max_features = 'sqrt')\n",
    "model_forest = model_rf.fit(X_train,y_train)"
   ]
  },
  {
   "cell_type": "code",
   "execution_count": 54,
   "id": "73b2af68-df99-449d-8d72-c106486096b4",
   "metadata": {},
   "outputs": [
    {
     "name": "stdout",
     "output_type": "stream",
     "text": [
      "              precision    recall  f1-score   support\n",
      "\n",
      "    Negativa       0.63      0.85      0.72      3114\n",
      "    Positiva       0.74      0.47      0.58      2886\n",
      "\n",
      "    accuracy                           0.67      6000\n",
      "   macro avg       0.69      0.66      0.65      6000\n",
      "weighted avg       0.68      0.67      0.65      6000\n",
      "\n"
     ]
    }
   ],
   "source": [
    "yhat_rf = model_forest.predict(X_test)\n",
    "print(classification_report(y_test, yhat_rf))"
   ]
  },
  {
   "cell_type": "code",
   "execution_count": 55,
   "id": "9be99b2c-0f7c-43db-9e72-93880a83a5a0",
   "metadata": {},
   "outputs": [
    {
     "data": {
      "text/html": [
       "<div>\n",
       "<style scoped>\n",
       "    .dataframe tbody tr th:only-of-type {\n",
       "        vertical-align: middle;\n",
       "    }\n",
       "\n",
       "    .dataframe tbody tr th {\n",
       "        vertical-align: top;\n",
       "    }\n",
       "\n",
       "    .dataframe thead th {\n",
       "        text-align: right;\n",
       "    }\n",
       "</style>\n",
       "<table border=\"1\" class=\"dataframe\">\n",
       "  <thead>\n",
       "    <tr style=\"text-align: right;\">\n",
       "      <th>col_0</th>\n",
       "      <th>Negativa</th>\n",
       "      <th>Positiva</th>\n",
       "    </tr>\n",
       "    <tr>\n",
       "      <th>sentiment</th>\n",
       "      <th></th>\n",
       "      <th></th>\n",
       "    </tr>\n",
       "  </thead>\n",
       "  <tbody>\n",
       "    <tr>\n",
       "      <th>Negativa</th>\n",
       "      <td>2639</td>\n",
       "      <td>475</td>\n",
       "    </tr>\n",
       "    <tr>\n",
       "      <th>Positiva</th>\n",
       "      <td>1529</td>\n",
       "      <td>1357</td>\n",
       "    </tr>\n",
       "  </tbody>\n",
       "</table>\n",
       "</div>"
      ],
      "text/plain": [
       "col_0      Negativa  Positiva\n",
       "sentiment                    \n",
       "Negativa       2639       475\n",
       "Positiva       1529      1357"
      ]
     },
     "execution_count": 55,
     "metadata": {},
     "output_type": "execute_result"
    }
   ],
   "source": [
    "#Se genera matriz de confusion\n",
    "pd.crosstab(y_test, yhat_rf)"
   ]
  },
  {
   "cell_type": "code",
   "execution_count": 56,
   "id": "1195b3a3-525e-44fc-a409-7b8221386726",
   "metadata": {},
   "outputs": [],
   "source": [
    "pickle.dump(model_forest,open('model_rf.sav','wb'))"
   ]
  },
  {
   "cell_type": "markdown",
   "id": "6f8fd483-e090-4f81-ae36-d49b3c13964e",
   "metadata": {},
   "source": [
    "# Logistic Regression"
   ]
  },
  {
   "cell_type": "code",
   "execution_count": 22,
   "id": "d51654e7-c4d1-482e-a082-a92012acc5d5",
   "metadata": {},
   "outputs": [],
   "source": [
    "param_grid_lg = {'C': [0.001, 0.01, 0.1, 1, 10, 100, 1000] }"
   ]
  },
  {
   "cell_type": "code",
   "execution_count": 35,
   "id": "5b503d75-d4fe-44f4-bdb8-38f7e89ac3ca",
   "metadata": {},
   "outputs": [],
   "source": [
    "lg_grid = GridSearchCV(LogisticRegression(penalty='l2'), param_grid_lg, cv=5, n_jobs = -1).fit(X_train, y_train)"
   ]
  },
  {
   "cell_type": "code",
   "execution_count": 36,
   "id": "94cff6e7-9705-4929-b3f0-a4263e8c3899",
   "metadata": {},
   "outputs": [
    {
     "data": {
      "text/plain": [
       "{'C': 0.1}"
      ]
     },
     "execution_count": 36,
     "metadata": {},
     "output_type": "execute_result"
    }
   ],
   "source": [
    "lg_grid.best_params_"
   ]
  },
  {
   "cell_type": "code",
   "execution_count": 40,
   "id": "457b0163-c805-4e65-b86d-c832b43a4578",
   "metadata": {},
   "outputs": [],
   "source": [
    "model_log = LogisticRegression(C =0.1, penalty = 'l2')\n",
    "model_lg = model_log.fit(X_train,y_train)"
   ]
  },
  {
   "cell_type": "code",
   "execution_count": 41,
   "id": "b0c03256-3787-487b-a98b-992d23582f8f",
   "metadata": {},
   "outputs": [
    {
     "name": "stdout",
     "output_type": "stream",
     "text": [
      "              precision    recall  f1-score   support\n",
      "\n",
      "    Negativa       0.67      0.72      0.69      3114\n",
      "    Positiva       0.67      0.62      0.64      2886\n",
      "\n",
      "    accuracy                           0.67      6000\n",
      "   macro avg       0.67      0.67      0.67      6000\n",
      "weighted avg       0.67      0.67      0.67      6000\n",
      "\n"
     ]
    }
   ],
   "source": [
    "yhat_log = model_lg.predict(X_test)\n",
    "print(classification_report(y_test, yhat_log))"
   ]
  },
  {
   "cell_type": "code",
   "execution_count": 43,
   "id": "e2601524-97ed-449c-a6ee-c0a5c632d91c",
   "metadata": {},
   "outputs": [
    {
     "data": {
      "text/html": [
       "<div>\n",
       "<style scoped>\n",
       "    .dataframe tbody tr th:only-of-type {\n",
       "        vertical-align: middle;\n",
       "    }\n",
       "\n",
       "    .dataframe tbody tr th {\n",
       "        vertical-align: top;\n",
       "    }\n",
       "\n",
       "    .dataframe thead th {\n",
       "        text-align: right;\n",
       "    }\n",
       "</style>\n",
       "<table border=\"1\" class=\"dataframe\">\n",
       "  <thead>\n",
       "    <tr style=\"text-align: right;\">\n",
       "      <th>col_0</th>\n",
       "      <th>Negativa</th>\n",
       "      <th>Positiva</th>\n",
       "    </tr>\n",
       "    <tr>\n",
       "      <th>sentiment</th>\n",
       "      <th></th>\n",
       "      <th></th>\n",
       "    </tr>\n",
       "  </thead>\n",
       "  <tbody>\n",
       "    <tr>\n",
       "      <th>Negativa</th>\n",
       "      <td>2231</td>\n",
       "      <td>883</td>\n",
       "    </tr>\n",
       "    <tr>\n",
       "      <th>Positiva</th>\n",
       "      <td>1102</td>\n",
       "      <td>1784</td>\n",
       "    </tr>\n",
       "  </tbody>\n",
       "</table>\n",
       "</div>"
      ],
      "text/plain": [
       "col_0      Negativa  Positiva\n",
       "sentiment                    \n",
       "Negativa       2231       883\n",
       "Positiva       1102      1784"
      ]
     },
     "execution_count": 43,
     "metadata": {},
     "output_type": "execute_result"
    }
   ],
   "source": [
    "#Se genera matriz de confusion\n",
    "pd.crosstab(y_test, yhat_log)"
   ]
  },
  {
   "cell_type": "code",
   "execution_count": 44,
   "id": "fb3f2991-ea23-448b-9142-55dd27824efd",
   "metadata": {},
   "outputs": [],
   "source": [
    "pickle.dump(model_log,open('model_log.sav','wb'))"
   ]
  }
 ],
 "metadata": {
  "kernelspec": {
   "display_name": "Python 3",
   "language": "python",
   "name": "python3"
  },
  "language_info": {
   "codemirror_mode": {
    "name": "ipython",
    "version": 3
   },
   "file_extension": ".py",
   "mimetype": "text/x-python",
   "name": "python",
   "nbconvert_exporter": "python",
   "pygments_lexer": "ipython3",
   "version": "3.8.8"
  }
 },
 "nbformat": 4,
 "nbformat_minor": 5
}
