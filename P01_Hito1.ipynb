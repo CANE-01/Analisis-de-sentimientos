{
 "cells": [
  {
   "cell_type": "markdown",
   "id": "442a7535-2658-465d-8d70-650fd087df5f",
   "metadata": {},
   "source": [
    "Prueba 1. Hito 1. \n",
    "Autores: Alejandro Chaú y Cristóbal Novoa"
   ]
  },
  {
   "cell_type": "markdown",
   "id": "65bd757f-a0d4-473b-ba60-0d017f0144c3",
   "metadata": {},
   "source": [
    "# Prueba 1: Análisis de Sentimientos de Twitter\n",
    "\n",
    "● Para realizar esta prueba debes haber estudiado previamente todo el material\n",
    "disponibilizado correspondiente al módulo.\n",
    "● Una vez terminada la prueba, comprime la carpeta que contiene el desarrollo de los\n",
    "requerimientos solicitados y sube el .zip en el LMS.\n",
    "● Puntaje total: 10 puntos.\n",
    "● Desarrollo prueba:\n",
    "○ La prueba se debe desarrollar de manera Individual.\n",
    "○ Para la realización de la prueba necesitarás apoyarte del archivo Apoyo\n",
    "Prueba1.zip.\n",
    "\n",
    "Contexto\n",
    "\n",
    "A continuación se presenta un problema clásico en el análisis de texto: Extraer la polaridad\n",
    "de sentimiento asociado a un texto.\n",
    "Para esto, utilizaremos una base de datos provenientes de CrowdFlower que se entrega\n",
    "como archivo adjunto para esta prueba bajo el nombre de training_tweets.csv .\n",
    "Para descargar los datos puede ejecutar el siguiente código:"
   ]
  },
  {
   "cell_type": "markdown",
   "id": "92056311-23dc-46df-814f-3d9501f01b34",
   "metadata": {},
   "source": [
    "`wget`\n",
    "`https://www.crowdflower.com/wp-content/uploads/2016/07/text_emotion.csv`\n"
   ]
  },
  {
   "cell_type": "markdown",
   "id": "4ef119f6-015e-45b8-971f-5c6847174e32",
   "metadata": {},
   "source": [
    "El objetivo general de esta prueba es alcanzar el mejor desempeño posible para clasificar si\n",
    "un tweet tiene una polaridad positiva o negativa en cuanto al sentimiento que expresa.\n",
    "Para medir el desempeño, se evaluará con un conjunto de datos del cuál no tendrán acceso.\n",
    "De esta manera evitaremos que los modelos aprendan información sobre el conjunto de\n",
    "validación."
   ]
  },
  {
   "cell_type": "markdown",
   "id": "25293370-02ae-45a3-b7a1-2ad282e25b45",
   "metadata": {},
   "source": [
    "# Objetivos\n",
    "\n",
    "Para alcanzar el objetivo general, su trabajo se puede desagregar en los siguientes puntos:\n",
    "\n",
    "* 1. Generar un análisis exploratorio sobre los datos contenidos en el DataFrame,\n",
    "considerando palabras más comunes y distribución de las clases en el vector\n",
    "objetivo.\n",
    "\n",
    "* 2. Preprocesamiento de Texto:\n",
    "● Para trabajar adecuadamente con texto, debemos preprocesar y posteriormente\n",
    "representar cada oración como un conjunto de características.\n",
    "● Para preprocesar los tweets, debemos transformarlos a lower case. Un problema\n",
    "recurrente en el análisis de texto es la alta ocurrencia de palabras comunes. Se\n",
    "recomienda eliminarlas mediante la declaración de stopwords. Para generar la\n",
    "exclusión de stopwords, podemos utilizar la librería nltk (Natural Language ToolKit)\n",
    "y descargar los stopwords con la siguiente instrucción."
   ]
  },
  {
   "cell_type": "markdown",
   "id": "64714f0c-cb3d-4cfc-9fa7-7c3d72012e52",
   "metadata": {},
   "source": [
    "`import nltk`\n",
    "`nltk.download( 'stopwords' )`"
   ]
  },
  {
   "cell_type": "markdown",
   "id": "51d6331d-0614-4e97-b095-53678e83ce97",
   "metadata": {},
   "source": [
    "* ● Puede refinar los atributos a capturar mediante el proceso de lemantización (la\n",
    "reducción de variadas palabras con un tronco léxico común; ejemplo: Organización,\n",
    "Organiza, y Organizado presentan organi_ como tronco léxico en común) o\n",
    "Stemming (la reducción de una palabra a una expresión generalizable). Cabe\n",
    "destacar que ésta última carece de análisis morfológico del lenguaje.\n",
    "* ● Posterior a la refinación y preprocesamiento de las palabras, podemos representar\n",
    "cada oración en una matriz (o corpus) que permitirá reflejar la cantidad de\n",
    "ocurrencias de Wi palabra en un registro. Para ello, pueden hacer uso de las librerías\n",
    "de preprocesamiento sklearn.feature_extraction.text.CountVectorizer o\n",
    "sklearn.feature_extraction.text.TfidfVectorizer . De esta manera,\n",
    "tendremos un conjunto de características es mediante la frecuencia de ocurrencia de\n",
    "una palabra o término en el texto."
   ]
  },
  {
   "cell_type": "markdown",
   "id": "7fbc31a7-4030-4ba7-a16c-8d4e067a29dc",
   "metadata": {},
   "source": [
    "* 3. Preparación del vector objetivo y las matrices de entrenamiento y validación:\n",
    "    ● Nos interesa trabajar con dos tipos de emociones: positivas o negativas. Para ello\n",
    "    deberá generar la recodificación de cada una de las clases en una de las dos\n",
    "    emociones:"
   ]
  },
  {
   "cell_type": "markdown",
   "id": "8a06b135-02e9-457b-9d14-f3ca6eabf75a",
   "metadata": {},
   "source": [
    "|Original | Recodificación|\n",
    "|---|---|\n",
    "|'worry' | Negativa|\n",
    "|'happiness' | Positiva|\n",
    "|'sadness' | Negativa|\n",
    "|'love' | Positiva|\n",
    "|'surprise' | Positiva|\n",
    "|'fun' | Positiva |\n",
    "|'relief' | Positiva|\n",
    "|'hate' | Negativa|\n",
    "|'empty' | Negativa|\n",
    "|'enthusiasm' | Positiva|\n",
    "|'boredom' | Negativa|\n",
    "|'anger' | Negativa|"
   ]
  },
  {
   "cell_type": "markdown",
   "id": "1f076947-d0cc-4ea8-869b-64eab981d8e2",
   "metadata": {},
   "source": [
    "* Si el tweet está asignado como neutral, clasifíquelo aleatoriamente entre positivo o negativo."
   ]
  },
  {
   "cell_type": "markdown",
   "id": "990e3f97-6a8b-4f53-9450-0bf05874e914",
   "metadata": {},
   "source": [
    "* 4. Entrenamiento de modelos:\n",
    "    ○ En base a los modelos vistos en clase, implemente por lo menos 5. Para cada\n",
    "    uno de ellos justifique la elección de hiper parámetros. Si implementa\n",
    "    búsqueda de grilla para cada uno de ellos, defina el rango de valores a tomar\n",
    "    en cada hiper parámetro.\n",
    "    ○ Reporte el desempeño de cada modelo en las muestras de entrenamiento y\n",
    "    validación. Comente sobre la capacidad de generalización de cada uno de\n",
    "    ellos haciendo uso de los conceptos vistos en el curso."
   ]
  },
  {
   "cell_type": "markdown",
   "id": "a7e752e6-0a28-4cf6-9164-4e63f2c101e8",
   "metadata": {},
   "source": [
    "* 5. Seleccione los 2 mejores modelos, serialicelos y envíalos a evaluación. Recuerde que\n",
    "    el modelo serializado debe ser posterior al fit , para poder ejecutar predict en los\n",
    "    nuevos datos. "
   ]
  },
  {
   "cell_type": "markdown",
   "id": "4ee7efb9-b389-48ba-91d2-580a8772de77",
   "metadata": {},
   "source": [
    "# Evaluación\n",
    "\n",
    "La siguiente rúbrica detalla los elementos que se evaluarán en el entregable final (Hito 3) de\n",
    "la prueba, es decir, una vez que su trabajo esté completo:\n",
    "* ● Notebook (9 Puntos) : El notebook debe ser un reporte con la estrategia analítica, explicando los siguientes puntos:\n",
    "* ○ La definición de los requerimientos, la definición del vector objetivo, la definición de las métricas a utilizar. (1 Puntos)\n",
    "* ○ Un análisis exploratorio (univariado y gráfico). Como mínimo, debe analizar el comportamiento del vector objetivo antes del preprocesamiento y posterior al procesamiento. (3 Puntos)\n",
    "* ○ La estrategia de preprocesamiento/feature engineering. (3 Puntos)\n",
    "* ○ La elección de los algoritmos a implementar, así como sus hiper parámetros.\n",
    "* Un reporte sobre qué modelos se seleccionarán. (2 Puntos)\n",
    "* ● Modelos serializados (1 Puntos) :\n",
    "* ○ Los modelos deben estar serializados con la siguiente nomenclatura: nombre_grupo-modelo -1 y nombre_grupo-modelo -2 .\n",
    "* La evaluación de los modelos serializados se realizará en función al desempeño predictivo del modelo en un conjunto de datos externos. La primera instancia es evaluar los dos modelos enviados a competencia por el grupo, preservando el mejor modelo para la competencia con los otros grupos. El segundo paso es rankear según el desempeño entre grupos. El alumno debe obtener un mínimo de 7 puntos para aprobar."
   ]
  },
  {
   "cell_type": "markdown",
   "id": "b3d6b6ae-dfbd-4957-832c-925f42573c46",
   "metadata": {},
   "source": [
    "Descripción\n",
    "\n",
    "● El desarrollo del hito se realiza en la Sesión Experimental 1 y Sesión Experimental 2,\n",
    "siendo en esta última la subida de la respuesta en el LMS.\n",
    "\n",
    "● Desarrollar secciones:\n",
    "○ Preliminares\n",
    "○ Aspectos Computacionales\n",
    "○ Análisis Exploratorio\n",
    "○ Feature Engineering (iniciar desarrollo).\n",
    "\n",
    "Requerimientos\n",
    "\n",
    "1 -El enunciado debe estar clarificado, considerando el tipo de problema a resolver. Se\n",
    "deben considerar las librerías a implementar. (1 Punto)\n",
    "\n",
    "2 -El tipo de métricas a implementar, ¿Qué estrategia de división de muestras?, ¿Qué\n",
    "tipo de preprocesamiento se implementará?. (2 Puntos)\n",
    "\n",
    "3 -Declarar por lo menos cinco modelos con una grilla de hiperparámetros tentativa. (2\n",
    "Puntos)\n",
    "\n",
    "4 -Se debe analizar el comportamiento del vector objetivo. (2 Puntos)\n",
    "\n",
    "5 -Se debe reportar el patrón de datos perdidos. (1 Punto)\n",
    "\n",
    "6 -Se debe implementar recodificaciones para el vector objetivo. (2 Puntos)\n",
    "\n",
    "● Entregable: Un notebook con todos los puntos detallados. De ser necesario, un\n",
    "archivo con extensión .py que contenga todas las funciones auxiliares.\n",
    "\n",
    "Consideraciones\n",
    "\n",
    "● Utilizar algún preprocesador de texto (CountVectorizer, TfidfVectorizer) y definición\n",
    "de sus parámetros.\n",
    "\n",
    "● Considerar la recodificación del vector objetivo y su estrategia de aleatorización."
   ]
  },
  {
   "cell_type": "markdown",
   "id": "f93d57b8-9852-4871-b074-c83e408a6d53",
   "metadata": {},
   "source": [
    "1 -La versión de python a usar es la siguiente : Python 3.8.8\n",
    "\n",
    "Las librerías a utilizar serán las siguientes:\n",
    "scikit-learn 0.24.2\n",
    "scipy 1.6.2\n",
    "seaborn 0.11.1\n",
    "pandas 1.2.4\n",
    "numpy 1.19.5\n",
    "missingno 0.5.0\n",
    "matplotlib 3.3.4\n",
    "regex 2021.4.4\n",
    "nltk 3.6.1"
   ]
  },
  {
   "cell_type": "markdown",
   "id": "bdcbb1b2-ae9f-41f7-bfee-c3ebbdf8cd7f",
   "metadata": {},
   "source": [
    "La prueba a realizar consiste en un ejercicio de clasificacion dentro del contexto del procesamiento del lenguaje natural(NLP), donde debe clasificarse un listado de tweets según el tipo de emociones emparentado con cada uno de estos. \n",
    "El objetivo final del ejercicio es etiquetar entre tweets positivos y negativos de acuerdo a lo indicado en el enunciado, para ello se aplicará todo lo ya visto en clases. \n",
    "\n",
    "Iniciando con la importacion de librerías, un analisis superficial del dataset en primera instancia, luego se prosigue con la limpieza del dataset si es que existen datos nulos(Data cleaning), luego se continua con un Analisis exploratorio de la data(EDA), se hará la recodificacion de categorías en el vector objetivo, se limpiara el texto extrayendo aquel que es realmente significativo, excluyendo stopwords, palabras de alta frecuencia, urls, users, etc. Luego se tokenizará usando count_vectorizer y se transformará el texto a vector para poder pasarselo al algoritmo. Posteriormente se binarizará el vector objetivo y se procede a separar en muestras de entrenamiento y test. Luego se aplicarán los algoritmos vistos en clase, se propondrá usar Random Forest, Bayes Ingenuo, AdaBoost, GBoost y Regresión logística. Finalmente se evaluaran las metricas dadas en la matriz de confusión y en el reporte de accuracy, precision y F1-score para decidir que modelos son los mejores clasificadores. "
   ]
  },
  {
   "cell_type": "markdown",
   "id": "70315a92-c6b2-49c8-8876-76312ed5e3c5",
   "metadata": {},
   "source": [
    "2 -Se dividirán las muestras en entrenamiento y test, dejando un 20 % para la muestra de test, que servira para evaluar el desempeño de los modelos. \n",
    "Se aplicara binary-encoding para el vector objetivo. En cuanto al texto, se limpiara el texto, excluyendo stopwords, urls, users y se generara la vectorizacion para convertirlo en numeros que permita procesar la data por los algoritmos. "
   ]
  },
  {
   "cell_type": "markdown",
   "id": "69136a75-bfd4-48de-bc95-7575dadb3405",
   "metadata": {},
   "source": [
    "3 - Se usaran los modelos bayes ingenuo, adaboost, gradientboosting, random forest y la regresion logistica. \n",
    "\n",
    "En base a lo visto en clases y lo investigado se pretende utilizar las siguientes grillas con hiperparametros.\n",
    "\n",
    "param_grid_nb = {'alpha': [0,1]}\n",
    "\n",
    "param_grid_ada = {'learning_rate': [0.01, 0.1, 0.5] ,'n_estimators': [50,100, 500, 1000, 2000]}\n",
    "\n",
    "param_grid_gb = {'learning_rate': [0.01, 0.1, 0.5], 'n_estimators': [50,100, 500, 1000,2000],\n",
    "                    'subsample': [0.1,0.5,0.9]}\n",
    "                    \n",
    "param_grid_rf={'n_estimators' : range(1, 1200, 250),\n",
    "                          'max_features':[None,'sqrt', 'log2'],\n",
    "                          'max_depth':[None, 3, 10, 20],\n",
    "                          'criterion'   : ['gini', 'entropy']}\n",
    "                          \n",
    "param_grid_lg = {'C': [0.001, 0.01, 0.1, 1, 10, 100, 1000] }\n",
    "                  "
   ]
  },
  {
   "cell_type": "code",
   "execution_count": 27,
   "id": "cefc687c-1542-40cb-bcc4-4a49e4030ec0",
   "metadata": {},
   "outputs": [],
   "source": [
    "# Se importan librerías\n",
    "import numpy as np\n",
    "import pandas as pd\n",
    "import scipy.stats as stats\n",
    "import matplotlib.pyplot as plt\n",
    "import statsmodels.api as sm\n",
    "import statsmodels.formula.api as smf\n",
    "import seaborn as sns\n",
    "import warnings\n",
    "warnings.filterwarnings(\"ignore\", category=DeprecationWarning)\n",
    "import missingno as msno\n",
    "import random\n",
    "\n",
    "from nltk.stem.wordnet import WordNetLemmatizer\n",
    "\n",
    "import re\n",
    "from sklearn.feature_extraction.text import CountVectorizer\n",
    "from sklearn.model_selection import train_test_split\n",
    "from sklearn.naive_bayes import MultinomialNB\n",
    "from sklearn.metrics import classification_report\n",
    "from sklearn.metrics import confusion_matrix\n",
    "from sklearn.ensemble import RandomForestClassifier\n",
    "from sklearn.linear_model import LogisticRegression\n",
    "from sklearn.metrics import roc_curve\n",
    "from sklearn.metrics import roc_auc_score\n",
    "from nltk.corpus import stopwords\n",
    "from sklearn.ensemble import AdaBoostClassifier\n",
    "from sklearn.ensemble import GradientBoostingClassifier\n",
    "from sklearn.model_selection import GridSearchCV\n",
    "from sklearn.metrics import roc_curve\n",
    "from sklearn.metrics import roc_auc_score"
   ]
  },
  {
   "cell_type": "code",
   "execution_count": 28,
   "id": "fe3d3da6-cc3f-45c2-830e-d0a29b2934cc",
   "metadata": {},
   "outputs": [
    {
     "name": "stderr",
     "output_type": "stream",
     "text": [
      "[nltk_data] Downloading package stopwords to /home/cris/nltk_data...\n",
      "[nltk_data]   Package stopwords is already up-to-date!\n",
      "[nltk_data] Downloading package wordnet to /home/cris/nltk_data...\n",
      "[nltk_data]   Package wordnet is already up-to-date!\n"
     ]
    }
   ],
   "source": [
    "import nltk\n",
    "nltk.download('stopwords')\n",
    "nltk.download('wordnet')\n",
    "lmtzr = WordNetLemmatizer()"
   ]
  },
  {
   "cell_type": "code",
   "execution_count": 29,
   "id": "87d64b72-33da-4d30-b6f6-60461ea5dc94",
   "metadata": {},
   "outputs": [],
   "source": [
    "# Carga csv\n",
    "df = pd.read_csv('training_tweets.csv').drop(columns=['Unnamed: 0'], axis = 1)"
   ]
  },
  {
   "cell_type": "code",
   "execution_count": 30,
   "id": "ddbd6aec-0700-4c09-a650-6c533225a993",
   "metadata": {},
   "outputs": [
    {
     "data": {
      "text/html": [
       "<div>\n",
       "<style scoped>\n",
       "    .dataframe tbody tr th:only-of-type {\n",
       "        vertical-align: middle;\n",
       "    }\n",
       "\n",
       "    .dataframe tbody tr th {\n",
       "        vertical-align: top;\n",
       "    }\n",
       "\n",
       "    .dataframe thead th {\n",
       "        text-align: right;\n",
       "    }\n",
       "</style>\n",
       "<table border=\"1\" class=\"dataframe\">\n",
       "  <thead>\n",
       "    <tr style=\"text-align: right;\">\n",
       "      <th></th>\n",
       "      <th>content</th>\n",
       "      <th>sentiment</th>\n",
       "    </tr>\n",
       "  </thead>\n",
       "  <tbody>\n",
       "    <tr>\n",
       "      <th>0</th>\n",
       "      <td>Happy Mama's day to all mothers</td>\n",
       "      <td>love</td>\n",
       "    </tr>\n",
       "    <tr>\n",
       "      <th>1</th>\n",
       "      <td>@LysdelTellez I am lost. Please help me find a...</td>\n",
       "      <td>worry</td>\n",
       "    </tr>\n",
       "    <tr>\n",
       "      <th>2</th>\n",
       "      <td>@BoomKatt yes yes I AM, networking whore to th...</td>\n",
       "      <td>happiness</td>\n",
       "    </tr>\n",
       "    <tr>\n",
       "      <th>3</th>\n",
       "      <td>you@snapplynn Wish that would have been your t...</td>\n",
       "      <td>neutral</td>\n",
       "    </tr>\n",
       "    <tr>\n",
       "      <th>4</th>\n",
       "      <td>now i am doing the MicroEconomics project  iha...</td>\n",
       "      <td>worry</td>\n",
       "    </tr>\n",
       "  </tbody>\n",
       "</table>\n",
       "</div>"
      ],
      "text/plain": [
       "                                             content  sentiment\n",
       "0                    Happy Mama's day to all mothers       love\n",
       "1  @LysdelTellez I am lost. Please help me find a...      worry\n",
       "2  @BoomKatt yes yes I AM, networking whore to th...  happiness\n",
       "3  you@snapplynn Wish that would have been your t...    neutral\n",
       "4  now i am doing the MicroEconomics project  iha...      worry"
      ]
     },
     "execution_count": 30,
     "metadata": {},
     "output_type": "execute_result"
    }
   ],
   "source": [
    "df.head()"
   ]
  },
  {
   "cell_type": "code",
   "execution_count": 31,
   "id": "dcbe3ac6-13ee-48a3-b9da-10e7252a9975",
   "metadata": {},
   "outputs": [
    {
     "data": {
      "text/plain": [
       "(30000, 2)"
      ]
     },
     "execution_count": 31,
     "metadata": {},
     "output_type": "execute_result"
    }
   ],
   "source": [
    "# Cantidad de datos\n",
    "df.shape"
   ]
  },
  {
   "cell_type": "code",
   "execution_count": 32,
   "id": "71ed5912-5291-48c4-a02f-e46de7cd420a",
   "metadata": {},
   "outputs": [
    {
     "data": {
      "text/plain": [
       "content      object\n",
       "sentiment    object\n",
       "dtype: object"
      ]
     },
     "execution_count": 32,
     "metadata": {},
     "output_type": "execute_result"
    }
   ],
   "source": [
    "# Tipo de datos\n",
    "df.dtypes"
   ]
  },
  {
   "cell_type": "code",
   "execution_count": 33,
   "id": "e5e31f5c-9db9-470c-bbd0-2d4cf31413b6",
   "metadata": {},
   "outputs": [
    {
     "name": "stdout",
     "output_type": "stream",
     "text": [
      "<class 'pandas.core.frame.DataFrame'>\n",
      "RangeIndex: 30000 entries, 0 to 29999\n",
      "Data columns (total 2 columns):\n",
      " #   Column     Non-Null Count  Dtype \n",
      "---  ------     --------------  ----- \n",
      " 0   content    30000 non-null  object\n",
      " 1   sentiment  30000 non-null  object\n",
      "dtypes: object(2)\n",
      "memory usage: 468.9+ KB\n"
     ]
    }
   ],
   "source": [
    "#Reporte de valores nulos\n",
    "df.info()"
   ]
  },
  {
   "cell_type": "code",
   "execution_count": 34,
   "id": "920fedbe-b50c-4850-9c57-ce274b76e0b3",
   "metadata": {},
   "outputs": [
    {
     "data": {
      "text/plain": [
       "<AxesSubplot:>"
      ]
     },
     "execution_count": 34,
     "metadata": {},
     "output_type": "execute_result"
    },
    {
     "data": {
      "image/png": "[encoded data removed]",
      "text/plain": [
       "<Figure size 1800x720 with 3 Axes>"
      ]
     },
     "metadata": {
      "needs_background": "light"
     },
     "output_type": "display_data"
    }
   ],
   "source": [
    "# Valores nulos\n",
    "msno.bar(df)"
   ]
  },
  {
   "cell_type": "markdown",
   "id": "4ef6375f-00e4-4f70-a74d-20d765430308",
   "metadata": {},
   "source": [
    "No hay valores nulos en el csv"
   ]
  },
  {
   "cell_type": "markdown",
   "id": "5031831c-96c7-4d7d-893e-0d952c9131ed",
   "metadata": {},
   "source": [
    "# 5 -Patrón de datos perdidos"
   ]
  },
  {
   "cell_type": "code",
   "execution_count": 35,
   "id": "4da895ac-2112-46ed-900f-752b083f0326",
   "metadata": {},
   "outputs": [
    {
     "data": {
      "text/plain": [
       "<AxesSubplot:>"
      ]
     },
     "execution_count": 35,
     "metadata": {},
     "output_type": "execute_result"
    },
    {
     "data": {
      "image/png": "[encoded data removed]",
      "text/plain": [
       "<Figure size 1800x720 with 2 Axes>"
      ]
     },
     "metadata": {
      "needs_background": "light"
     },
     "output_type": "display_data"
    }
   ],
   "source": [
    "#Se reporta matriz de datos perdidos\n",
    "msno.matrix(df)"
   ]
  },
  {
   "cell_type": "markdown",
   "id": "af208bed-3203-4035-a5b7-4b8d4096eec8",
   "metadata": {},
   "source": [
    "# 4 - Comportamiento vector objetivo(EDA)"
   ]
  },
  {
   "cell_type": "code",
   "execution_count": 36,
   "id": "d4a709ef-4aaf-4131-9ad3-fa267639577f",
   "metadata": {},
   "outputs": [
    {
     "data": {
      "image/png": "[encoded data removed]",
      "text/plain": [
       "<Figure size 432x288 with 1 Axes>"
      ]
     },
     "metadata": {
      "needs_background": "light"
     },
     "output_type": "display_data"
    }
   ],
   "source": [
    "# Grafica de frecuencias por sentimientos\n",
    "df['sentiment'].value_counts().plot.barh()\n",
    "plt.title('Frecuencia de sentimientos')\n",
    "plt.show()"
   ]
  },
  {
   "cell_type": "markdown",
   "id": "07e54c62-b503-46f8-a56b-c1a0fa3be0e6",
   "metadata": {},
   "source": [
    "La categoría neutral es la más frecuente, seguida por preocupacion(worry) y happiness(felicidad). De acuerdo a lo indicado en la recodificacion la data se encuentra balanceada entre sentimientos positivos y negativos."
   ]
  },
  {
   "cell_type": "markdown",
   "id": "8e226cf6-009a-4c48-90df-5060e7aa821a",
   "metadata": {},
   "source": [
    "# 6 -Recodificacion vector objetivo"
   ]
  },
  {
   "cell_type": "code",
   "execution_count": 37,
   "id": "83ba9b74-3efc-4b8f-8731-1ded42fcd85e",
   "metadata": {},
   "outputs": [],
   "source": [
    "# Reemplazo categorias(Positiva, Negativa, NaN)\n",
    "df['sentiment']=df['sentiment'].replace(['happiness', 'love', 'surprise', 'fun', 'relief', 'enthusiasm'], 'Positiva')\n",
    "df['sentiment']=df['sentiment'].replace(['worry', 'sadness', 'hate', 'empty', 'boredom', 'anger'], 'Negativa')\n",
    "df['sentiment']=df['sentiment'].replace(['neutral'], np.nan)"
   ]
  },
  {
   "cell_type": "code",
   "execution_count": 38,
   "id": "55d524f0-978a-495e-a242-81e32857eebf",
   "metadata": {},
   "outputs": [
    {
     "data": {
      "text/plain": [
       "0    Positiva\n",
       "1    Negativa\n",
       "2    Positiva\n",
       "3         NaN\n",
       "4    Negativa\n",
       "Name: sentiment, dtype: object"
      ]
     },
     "execution_count": 38,
     "metadata": {},
     "output_type": "execute_result"
    }
   ],
   "source": [
    "df['sentiment'].head()"
   ]
  },
  {
   "cell_type": "markdown",
   "id": "0596509a-f0dc-4ab7-879c-31db93064cfb",
   "metadata": {},
   "source": [
    "# Aleatorizacion vector objetivo"
   ]
  },
  {
   "cell_type": "code",
   "execution_count": 39,
   "id": "a36cd563-0921-4473-9efb-e009d86d96b6",
   "metadata": {},
   "outputs": [],
   "source": [
    "# Reemplazo aleatorio NaN, anteriormente categoría neutral en Positiva y Negativa usando semilla pseudoaleatoria y rellenando NaN. \n",
    "\n",
    "mylist = [\"Positiva\", \"Negativa\"]\n",
    "np.random.seed(4982)\n",
    "df['sentiment'] = df['sentiment'].fillna(pd.Series(np.random.choice(mylist, size = len(df.index))))"
   ]
  },
  {
   "cell_type": "code",
   "execution_count": 40,
   "id": "ee9af522-1f68-4b62-854f-2fde49d80f32",
   "metadata": {},
   "outputs": [
    {
     "data": {
      "image/png": "[encoded data removed]",
      "text/plain": [
       "<Figure size 432x288 with 1 Axes>"
      ]
     },
     "metadata": {
      "needs_background": "light"
     },
     "output_type": "display_data"
    }
   ],
   "source": [
    "# Distribucion de datos post-aleatorización\n",
    "df['sentiment'].value_counts().plot.barh()\n",
    "plt.title('Conteo de tweets negativos y positivos')\n",
    "plt.show()"
   ]
  },
  {
   "cell_type": "markdown",
   "id": "8067b306-39f6-4e7b-8845-699705cdb702",
   "metadata": {},
   "source": [
    "La distribución se encuentra balanceada entre tweets positivos y negativos posterior a la aleatorizacion de la clase neutral. "
   ]
  },
  {
   "cell_type": "code",
   "execution_count": 41,
   "id": "7f2e242d-5f1e-44ff-a2cf-615cdce3f953",
   "metadata": {},
   "outputs": [],
   "source": [
    "#Binarizacion de income\n",
    "df['sentiment'] = np.where(df['sentiment'] == 'Positiva',1,0)"
   ]
  },
  {
   "cell_type": "code",
   "execution_count": 42,
   "id": "d9614d47-2da8-43d5-80f0-1b10aa8655f1",
   "metadata": {},
   "outputs": [
    {
     "data": {
      "text/plain": [
       "0    1\n",
       "1    0\n",
       "2    1\n",
       "3    1\n",
       "4    0\n",
       "Name: sentiment, dtype: int64"
      ]
     },
     "execution_count": 42,
     "metadata": {},
     "output_type": "execute_result"
    }
   ],
   "source": [
    "#Se muestran cambios en la columna sentiment\n",
    "df['sentiment'].head()"
   ]
  },
  {
   "cell_type": "code",
   "execution_count": 43,
   "id": "13fdf9db-6dc0-4519-a3d6-d28c38a9d8db",
   "metadata": {},
   "outputs": [],
   "source": [
    "# Se genera objeto con stopwords (palabras vacías que no proporcionan ninguna información a los modelos)\n",
    "stop = stopwords.words('english')"
   ]
  },
  {
   "cell_type": "code",
   "execution_count": 44,
   "id": "e06cc9bd-9702-4a01-affe-fe4aaaa49c66",
   "metadata": {},
   "outputs": [
    {
     "data": {
      "text/plain": [
       "['i', 'me', 'my', 'myself', 'we']"
      ]
     },
     "execution_count": 44,
     "metadata": {},
     "output_type": "execute_result"
    }
   ],
   "source": [
    "# Se reportan cinco primeras stopwords\n",
    "stop[0:5]"
   ]
  },
  {
   "cell_type": "code",
   "execution_count": 45,
   "id": "a64a2859-bcd5-45ff-94c9-3238f4ed7c51",
   "metadata": {},
   "outputs": [],
   "source": [
    "# Se genera funcion para limpiar y preprocesar el texto \n",
    "def super_preproc(df, texto):\n",
    "    \"\"\"\n",
    "    super_preproc: Convierte el texto de una columna a minusculas, luego expande las expresiones cortas en ingles, \n",
    "                    remueve @users, numeros, emoticones y urls. Además remueve stopwords y palabras con un tronco lexico comun\n",
    "                    \n",
    "    df: Dataframe\n",
    "    texto: columna de un dataframe que se pretende limpiar y preprocesar. \n",
    "    \n",
    "    \"\"\"\n",
    "    \n",
    "    #se convierte el texto a minusculas de acuerdo a lo solicitado\n",
    "    df[texto] = df[texto].str.lower()\n",
    "    \n",
    "    #se expanden expresiones cortas del ingles \n",
    "    df[texto] = df[texto].apply(lambda x: re.sub(r\"can't\", \"can not\", x))  \n",
    "    df[texto] = df[texto].apply(lambda x: re.sub(r\"n\\'t\", \" not\", x))\n",
    "    df[texto] = df[texto].apply(lambda x: re.sub(r\"\\'re\", \" are\", x))\n",
    "    df[texto] = df[texto].apply(lambda x: re.sub(r\"\\'m\",\" am\", x))\n",
    "    df[texto] = df[texto].apply(lambda x: re.sub(r\"\\'s\",\" is\", x))\n",
    "    df[texto] = df[texto].apply(lambda x: re.sub(r\"\\'ll\",\" will\", x))\n",
    "    df[texto] = df[texto].apply(lambda x: re.sub(r\"\\'ve\",\" have\", x))\n",
    "    df[texto] = df[texto].apply(lambda x: re.sub(r\"\\'t\", \" not\", x))\n",
    "    \n",
    "    #se remueven @user, numeros, emoticones, urls que no aportan informacion relevante \n",
    "    df[texto] = df[texto].apply(lambda x: re.sub(r\"(@[A-Za-z0-9]+)|([^0-9A-Za-z \\t])|(\\w+:\\/\\/\\S+)|^rt|http.+?\", \"\", x))\n",
    "    \n",
    "    #se remueven stopwords y se acortan los espacios \n",
    "    df[texto] = df[texto].apply(lambda x: ' '.join([word for word in x.split() if word not in (stop)]))\n",
    "    \n",
    "    #Lematizacion de palabras(reduccion de palabras con un tronco lexico comun)\n",
    "    df[texto] = df[texto].apply(lambda x: \" \".join([lmtzr.lemmatize(word) for word in x.split()]))\n"
   ]
  },
  {
   "cell_type": "code",
   "execution_count": 46,
   "id": "22a076bf-3e17-4003-9147-5499204b0370",
   "metadata": {},
   "outputs": [],
   "source": [
    "#Se aplica funcion sobre la columna que contiene el texto\n",
    "super_preproc(df, 'content')"
   ]
  },
  {
   "cell_type": "code",
   "execution_count": 47,
   "id": "ec8d3969-a498-4fae-8574-a70ac52d7e4d",
   "metadata": {},
   "outputs": [
    {
     "data": {
      "text/plain": [
       "0                                happy mama day mother\n",
       "1                      lost please help find good home\n",
       "2    yes yes networking whore fullestand girl rih next\n",
       "3                            wish would tweet followed\n",
       "4    microeconomics project ihate subject amp besid...\n",
       "Name: content, dtype: object"
      ]
     },
     "execution_count": 47,
     "metadata": {},
     "output_type": "execute_result"
    }
   ],
   "source": [
    "#Se muestran cambios realizados en la columna content\n",
    "df['content'].head()"
   ]
  },
  {
   "cell_type": "code",
   "execution_count": 48,
   "id": "852b8afc-3276-4369-8d9c-72ffa4a6b9e7",
   "metadata": {},
   "outputs": [],
   "source": [
    "# Se genera tokenizador en el texto y vector que se terminara pasando a los algoritmos de clasificacion\n",
    "count_vectorizer=CountVectorizer()\n",
    "count_vectorizer_fit = count_vectorizer.fit_transform(df['content'])"
   ]
  },
  {
   "cell_type": "code",
   "execution_count": null,
   "id": "2b260a6c-241c-4bb1-bc65-0691148c5fa3",
   "metadata": {},
   "outputs": [],
   "source": []
  }
 ],
 "metadata": {
  "kernelspec": {
   "display_name": "Python 3",
   "language": "python",
   "name": "python3"
  },
  "language_info": {
   "codemirror_mode": {
    "name": "ipython",
    "version": 3
   },
   "file_extension": ".py",
   "mimetype": "text/x-python",
   "name": "python",
   "nbconvert_exporter": "python",
   "pygments_lexer": "ipython3",
   "version": "3.8.8"
  }
 },
 "nbformat": 4,
 "nbformat_minor": 5
}
